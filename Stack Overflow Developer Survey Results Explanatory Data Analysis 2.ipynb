{
 "cells": [
  {
   "cell_type": "markdown",
   "metadata": {},
   "source": [
    "#  Stack Overflow Survey results from 2017 to 2020.\n",
    "\n",
    "> In this project I will retrieve the last four [Stack Overflow Survey results](https://insights.stackoverflow.com/survey). "
   ]
  },
  {
   "cell_type": "markdown",
   "metadata": {},
   "source": [
    "\n",
    "## Business Questions\n",
    "\n",
    "- How had an individual's job satisfaction changed over the years?\n",
    "\n",
    "- What are the salary and job Satisfaction differences in Arab World Countries?\n",
    "\n",
    "- What are the changes in salaries and job satisfaction for data scientists?\n",
    " \n",
    "- Does race and gender or education level matter more to an individual's salary?\n",
    "\n"
   ]
  },
  {
   "cell_type": "markdown",
   "metadata": {},
   "source": [
    "## Data Understanding"
   ]
  },
  {
   "cell_type": "markdown",
   "metadata": {},
   "source": [
    " > To complete this project we need to collect the results of the last four years. And then follow a data wrangling prosses. \n",
    "\n",
    "#### Data wrangling consists of: <br>\n",
    ">1- Gathering data <br>\n",
    ">2- Assessing data <br>\n",
    ">3- Cleaning data <br>\n",
    ">4- Storing, analyzing, and visualizing wrangled data <br><br>"
   ]
  },
  {
   "cell_type": "markdown",
   "metadata": {},
   "source": [
    "#### Gathering data"
   ]
  },
  {
   "cell_type": "code",
   "execution_count": 220,
   "metadata": {},
   "outputs": [],
   "source": [
    "#Importing backages \n",
    "import pandas as pd\n",
    "import numpy as np\n",
    "import matplotlib.pyplot as plt\n",
    "import seaborn as sns\n",
    "from sklearn.model_selection import train_test_split\n",
    "from sklearn.linear_model import LogisticRegression\n",
    "from sklearn.preprocessing import LabelEncoder\n",
    "from sklearn.naive_bayes import GaussianNB\n",
    "from sklearn import metrics\n",
    "import plotly.graph_objects as go"
   ]
  },
  {
   "cell_type": "code",
   "execution_count": 221,
   "metadata": {},
   "outputs": [],
   "source": [
    "#Stack Overflow  Syrvey result from 2017 to 2020 \n",
    "df_17 = pd.read_csv('Stack_Overflow_Survey_Results2017.csv')\n",
    "df_18 = pd.read_csv('Stack_Overflow_Survey_Results2018.csv',low_memory=False)\n",
    "df_19 = pd.read_csv('Stack_Overflow_Survey_Results2019.csv')\n",
    "df_20 = pd.read_csv('Stack_Overflow_Survey_Results2020.csv')"
   ]
  },
  {
   "cell_type": "code",
   "execution_count": 222,
   "metadata": {},
   "outputs": [],
   "source": [
    "#creating a columns contains the year \n",
    "#later these data sets will be combained\n",
    "df_17['year'] = 2017\n",
    "df_18['year'] = 2018\n",
    "df_19['year'] = 2019\n",
    "df_20['year'] = 2020\n"
   ]
  },
  {
   "cell_type": "markdown",
   "metadata": {},
   "source": [
    "#### Assessing data\n",
    "> Looking through each set to decide on the main features that can be used in the analysis."
   ]
  },
  {
   "cell_type": "code",
   "execution_count": 223,
   "metadata": {
    "scrolled": true
   },
   "outputs": [
    {
     "data": {
      "text/html": [
       "<div>\n",
       "<style scoped>\n",
       "    .dataframe tbody tr th:only-of-type {\n",
       "        vertical-align: middle;\n",
       "    }\n",
       "\n",
       "    .dataframe tbody tr th {\n",
       "        vertical-align: top;\n",
       "    }\n",
       "\n",
       "    .dataframe thead th {\n",
       "        text-align: right;\n",
       "    }\n",
       "</style>\n",
       "<table border=\"1\" class=\"dataframe\">\n",
       "  <thead>\n",
       "    <tr style=\"text-align: right;\">\n",
       "      <th></th>\n",
       "      <th>Respondent</th>\n",
       "      <th>Professional</th>\n",
       "      <th>ProgramHobby</th>\n",
       "      <th>Country</th>\n",
       "      <th>University</th>\n",
       "      <th>EmploymentStatus</th>\n",
       "      <th>FormalEducation</th>\n",
       "      <th>MajorUndergrad</th>\n",
       "      <th>HomeRemote</th>\n",
       "      <th>CompanySize</th>\n",
       "      <th>...</th>\n",
       "      <th>Gender</th>\n",
       "      <th>HighestEducationParents</th>\n",
       "      <th>Race</th>\n",
       "      <th>SurveyLong</th>\n",
       "      <th>QuestionsInteresting</th>\n",
       "      <th>QuestionsConfusing</th>\n",
       "      <th>InterestedAnswers</th>\n",
       "      <th>Salary</th>\n",
       "      <th>ExpectedSalary</th>\n",
       "      <th>year</th>\n",
       "    </tr>\n",
       "  </thead>\n",
       "  <tbody>\n",
       "    <tr>\n",
       "      <th>0</th>\n",
       "      <td>1</td>\n",
       "      <td>Student</td>\n",
       "      <td>Yes, both</td>\n",
       "      <td>United States</td>\n",
       "      <td>No</td>\n",
       "      <td>Not employed, and not looking for work</td>\n",
       "      <td>Secondary school</td>\n",
       "      <td>NaN</td>\n",
       "      <td>NaN</td>\n",
       "      <td>NaN</td>\n",
       "      <td>...</td>\n",
       "      <td>Male</td>\n",
       "      <td>High school</td>\n",
       "      <td>White or of European descent</td>\n",
       "      <td>Strongly disagree</td>\n",
       "      <td>Strongly agree</td>\n",
       "      <td>Disagree</td>\n",
       "      <td>Strongly agree</td>\n",
       "      <td>NaN</td>\n",
       "      <td>NaN</td>\n",
       "      <td>2017</td>\n",
       "    </tr>\n",
       "    <tr>\n",
       "      <th>1</th>\n",
       "      <td>2</td>\n",
       "      <td>Student</td>\n",
       "      <td>Yes, both</td>\n",
       "      <td>United Kingdom</td>\n",
       "      <td>Yes, full-time</td>\n",
       "      <td>Employed part-time</td>\n",
       "      <td>Some college/university study without earning ...</td>\n",
       "      <td>Computer science or software engineering</td>\n",
       "      <td>More than half, but not all, the time</td>\n",
       "      <td>20 to 99 employees</td>\n",
       "      <td>...</td>\n",
       "      <td>Male</td>\n",
       "      <td>A master's degree</td>\n",
       "      <td>White or of European descent</td>\n",
       "      <td>Somewhat agree</td>\n",
       "      <td>Somewhat agree</td>\n",
       "      <td>Disagree</td>\n",
       "      <td>Strongly agree</td>\n",
       "      <td>NaN</td>\n",
       "      <td>37500.0</td>\n",
       "      <td>2017</td>\n",
       "    </tr>\n",
       "    <tr>\n",
       "      <th>2</th>\n",
       "      <td>3</td>\n",
       "      <td>Professional developer</td>\n",
       "      <td>Yes, both</td>\n",
       "      <td>United Kingdom</td>\n",
       "      <td>No</td>\n",
       "      <td>Employed full-time</td>\n",
       "      <td>Bachelor's degree</td>\n",
       "      <td>Computer science or software engineering</td>\n",
       "      <td>Less than half the time, but at least one day ...</td>\n",
       "      <td>10,000 or more employees</td>\n",
       "      <td>...</td>\n",
       "      <td>Male</td>\n",
       "      <td>A professional degree</td>\n",
       "      <td>White or of European descent</td>\n",
       "      <td>Somewhat agree</td>\n",
       "      <td>Agree</td>\n",
       "      <td>Disagree</td>\n",
       "      <td>Agree</td>\n",
       "      <td>113750.0</td>\n",
       "      <td>NaN</td>\n",
       "      <td>2017</td>\n",
       "    </tr>\n",
       "    <tr>\n",
       "      <th>3</th>\n",
       "      <td>4</td>\n",
       "      <td>Professional non-developer who sometimes write...</td>\n",
       "      <td>Yes, both</td>\n",
       "      <td>United States</td>\n",
       "      <td>No</td>\n",
       "      <td>Employed full-time</td>\n",
       "      <td>Doctoral degree</td>\n",
       "      <td>A non-computer-focused engineering discipline</td>\n",
       "      <td>Less than half the time, but at least one day ...</td>\n",
       "      <td>10,000 or more employees</td>\n",
       "      <td>...</td>\n",
       "      <td>Male</td>\n",
       "      <td>A doctoral degree</td>\n",
       "      <td>White or of European descent</td>\n",
       "      <td>Agree</td>\n",
       "      <td>Agree</td>\n",
       "      <td>Somewhat agree</td>\n",
       "      <td>Strongly agree</td>\n",
       "      <td>NaN</td>\n",
       "      <td>NaN</td>\n",
       "      <td>2017</td>\n",
       "    </tr>\n",
       "    <tr>\n",
       "      <th>4</th>\n",
       "      <td>5</td>\n",
       "      <td>Professional developer</td>\n",
       "      <td>Yes, I program as a hobby</td>\n",
       "      <td>Switzerland</td>\n",
       "      <td>No</td>\n",
       "      <td>Employed full-time</td>\n",
       "      <td>Master's degree</td>\n",
       "      <td>Computer science or software engineering</td>\n",
       "      <td>Never</td>\n",
       "      <td>10 to 19 employees</td>\n",
       "      <td>...</td>\n",
       "      <td>NaN</td>\n",
       "      <td>NaN</td>\n",
       "      <td>NaN</td>\n",
       "      <td>NaN</td>\n",
       "      <td>NaN</td>\n",
       "      <td>NaN</td>\n",
       "      <td>NaN</td>\n",
       "      <td>NaN</td>\n",
       "      <td>NaN</td>\n",
       "      <td>2017</td>\n",
       "    </tr>\n",
       "  </tbody>\n",
       "</table>\n",
       "<p>5 rows × 155 columns</p>\n",
       "</div>"
      ],
      "text/plain": [
       "   Respondent                                       Professional  \\\n",
       "0           1                                            Student   \n",
       "1           2                                            Student   \n",
       "2           3                             Professional developer   \n",
       "3           4  Professional non-developer who sometimes write...   \n",
       "4           5                             Professional developer   \n",
       "\n",
       "                ProgramHobby         Country      University  \\\n",
       "0                  Yes, both   United States              No   \n",
       "1                  Yes, both  United Kingdom  Yes, full-time   \n",
       "2                  Yes, both  United Kingdom              No   \n",
       "3                  Yes, both   United States              No   \n",
       "4  Yes, I program as a hobby     Switzerland              No   \n",
       "\n",
       "                         EmploymentStatus  \\\n",
       "0  Not employed, and not looking for work   \n",
       "1                      Employed part-time   \n",
       "2                      Employed full-time   \n",
       "3                      Employed full-time   \n",
       "4                      Employed full-time   \n",
       "\n",
       "                                     FormalEducation  \\\n",
       "0                                   Secondary school   \n",
       "1  Some college/university study without earning ...   \n",
       "2                                  Bachelor's degree   \n",
       "3                                    Doctoral degree   \n",
       "4                                    Master's degree   \n",
       "\n",
       "                                  MajorUndergrad  \\\n",
       "0                                            NaN   \n",
       "1       Computer science or software engineering   \n",
       "2       Computer science or software engineering   \n",
       "3  A non-computer-focused engineering discipline   \n",
       "4       Computer science or software engineering   \n",
       "\n",
       "                                          HomeRemote  \\\n",
       "0                                                NaN   \n",
       "1              More than half, but not all, the time   \n",
       "2  Less than half the time, but at least one day ...   \n",
       "3  Less than half the time, but at least one day ...   \n",
       "4                                              Never   \n",
       "\n",
       "                CompanySize  ... Gender HighestEducationParents  \\\n",
       "0                       NaN  ...   Male             High school   \n",
       "1        20 to 99 employees  ...   Male       A master's degree   \n",
       "2  10,000 or more employees  ...   Male   A professional degree   \n",
       "3  10,000 or more employees  ...   Male       A doctoral degree   \n",
       "4        10 to 19 employees  ...    NaN                     NaN   \n",
       "\n",
       "                           Race         SurveyLong QuestionsInteresting  \\\n",
       "0  White or of European descent  Strongly disagree       Strongly agree   \n",
       "1  White or of European descent     Somewhat agree       Somewhat agree   \n",
       "2  White or of European descent     Somewhat agree                Agree   \n",
       "3  White or of European descent              Agree                Agree   \n",
       "4                           NaN                NaN                  NaN   \n",
       "\n",
       "  QuestionsConfusing InterestedAnswers    Salary  ExpectedSalary  year  \n",
       "0           Disagree    Strongly agree       NaN             NaN  2017  \n",
       "1           Disagree    Strongly agree       NaN         37500.0  2017  \n",
       "2           Disagree             Agree  113750.0             NaN  2017  \n",
       "3     Somewhat agree    Strongly agree       NaN             NaN  2017  \n",
       "4                NaN               NaN       NaN             NaN  2017  \n",
       "\n",
       "[5 rows x 155 columns]"
      ]
     },
     "execution_count": 223,
     "metadata": {},
     "output_type": "execute_result"
    }
   ],
   "source": [
    "#2017 data set \n",
    "df_17.head()"
   ]
  },
  {
   "cell_type": "code",
   "execution_count": 224,
   "metadata": {
    "scrolled": true
   },
   "outputs": [
    {
     "data": {
      "text/html": [
       "<div>\n",
       "<style scoped>\n",
       "    .dataframe tbody tr th:only-of-type {\n",
       "        vertical-align: middle;\n",
       "    }\n",
       "\n",
       "    .dataframe tbody tr th {\n",
       "        vertical-align: top;\n",
       "    }\n",
       "\n",
       "    .dataframe thead th {\n",
       "        text-align: right;\n",
       "    }\n",
       "</style>\n",
       "<table border=\"1\" class=\"dataframe\">\n",
       "  <thead>\n",
       "    <tr style=\"text-align: right;\">\n",
       "      <th></th>\n",
       "      <th>Respondent</th>\n",
       "      <th>Hobby</th>\n",
       "      <th>OpenSource</th>\n",
       "      <th>Country</th>\n",
       "      <th>Student</th>\n",
       "      <th>Employment</th>\n",
       "      <th>FormalEducation</th>\n",
       "      <th>UndergradMajor</th>\n",
       "      <th>CompanySize</th>\n",
       "      <th>DevType</th>\n",
       "      <th>...</th>\n",
       "      <th>Gender</th>\n",
       "      <th>SexualOrientation</th>\n",
       "      <th>EducationParents</th>\n",
       "      <th>RaceEthnicity</th>\n",
       "      <th>Age</th>\n",
       "      <th>Dependents</th>\n",
       "      <th>MilitaryUS</th>\n",
       "      <th>SurveyTooLong</th>\n",
       "      <th>SurveyEasy</th>\n",
       "      <th>year</th>\n",
       "    </tr>\n",
       "  </thead>\n",
       "  <tbody>\n",
       "    <tr>\n",
       "      <th>0</th>\n",
       "      <td>1</td>\n",
       "      <td>Yes</td>\n",
       "      <td>No</td>\n",
       "      <td>Kenya</td>\n",
       "      <td>No</td>\n",
       "      <td>Employed part-time</td>\n",
       "      <td>Bachelor’s degree (BA, BS, B.Eng., etc.)</td>\n",
       "      <td>Mathematics or statistics</td>\n",
       "      <td>20 to 99 employees</td>\n",
       "      <td>Full-stack developer</td>\n",
       "      <td>...</td>\n",
       "      <td>Male</td>\n",
       "      <td>Straight or heterosexual</td>\n",
       "      <td>Bachelor’s degree (BA, BS, B.Eng., etc.)</td>\n",
       "      <td>Black or of African descent</td>\n",
       "      <td>25 - 34 years old</td>\n",
       "      <td>Yes</td>\n",
       "      <td>NaN</td>\n",
       "      <td>The survey was an appropriate length</td>\n",
       "      <td>Very easy</td>\n",
       "      <td>2018</td>\n",
       "    </tr>\n",
       "    <tr>\n",
       "      <th>1</th>\n",
       "      <td>3</td>\n",
       "      <td>Yes</td>\n",
       "      <td>Yes</td>\n",
       "      <td>United Kingdom</td>\n",
       "      <td>No</td>\n",
       "      <td>Employed full-time</td>\n",
       "      <td>Bachelor’s degree (BA, BS, B.Eng., etc.)</td>\n",
       "      <td>A natural science (ex. biology, chemistry, phy...</td>\n",
       "      <td>10,000 or more employees</td>\n",
       "      <td>Database administrator;DevOps specialist;Full-...</td>\n",
       "      <td>...</td>\n",
       "      <td>Male</td>\n",
       "      <td>Straight or heterosexual</td>\n",
       "      <td>Bachelor’s degree (BA, BS, B.Eng., etc.)</td>\n",
       "      <td>White or of European descent</td>\n",
       "      <td>35 - 44 years old</td>\n",
       "      <td>Yes</td>\n",
       "      <td>NaN</td>\n",
       "      <td>The survey was an appropriate length</td>\n",
       "      <td>Somewhat easy</td>\n",
       "      <td>2018</td>\n",
       "    </tr>\n",
       "    <tr>\n",
       "      <th>2</th>\n",
       "      <td>4</td>\n",
       "      <td>Yes</td>\n",
       "      <td>Yes</td>\n",
       "      <td>United States</td>\n",
       "      <td>No</td>\n",
       "      <td>Employed full-time</td>\n",
       "      <td>Associate degree</td>\n",
       "      <td>Computer science, computer engineering, or sof...</td>\n",
       "      <td>20 to 99 employees</td>\n",
       "      <td>Engineering manager;Full-stack developer</td>\n",
       "      <td>...</td>\n",
       "      <td>NaN</td>\n",
       "      <td>NaN</td>\n",
       "      <td>NaN</td>\n",
       "      <td>NaN</td>\n",
       "      <td>NaN</td>\n",
       "      <td>NaN</td>\n",
       "      <td>NaN</td>\n",
       "      <td>NaN</td>\n",
       "      <td>NaN</td>\n",
       "      <td>2018</td>\n",
       "    </tr>\n",
       "    <tr>\n",
       "      <th>3</th>\n",
       "      <td>5</td>\n",
       "      <td>No</td>\n",
       "      <td>No</td>\n",
       "      <td>United States</td>\n",
       "      <td>No</td>\n",
       "      <td>Employed full-time</td>\n",
       "      <td>Bachelor’s degree (BA, BS, B.Eng., etc.)</td>\n",
       "      <td>Computer science, computer engineering, or sof...</td>\n",
       "      <td>100 to 499 employees</td>\n",
       "      <td>Full-stack developer</td>\n",
       "      <td>...</td>\n",
       "      <td>Male</td>\n",
       "      <td>Straight or heterosexual</td>\n",
       "      <td>Some college/university study without earning ...</td>\n",
       "      <td>White or of European descent</td>\n",
       "      <td>35 - 44 years old</td>\n",
       "      <td>No</td>\n",
       "      <td>No</td>\n",
       "      <td>The survey was an appropriate length</td>\n",
       "      <td>Somewhat easy</td>\n",
       "      <td>2018</td>\n",
       "    </tr>\n",
       "    <tr>\n",
       "      <th>4</th>\n",
       "      <td>7</td>\n",
       "      <td>Yes</td>\n",
       "      <td>No</td>\n",
       "      <td>South Africa</td>\n",
       "      <td>Yes, part-time</td>\n",
       "      <td>Employed full-time</td>\n",
       "      <td>Some college/university study without earning ...</td>\n",
       "      <td>Computer science, computer engineering, or sof...</td>\n",
       "      <td>10,000 or more employees</td>\n",
       "      <td>Data or business analyst;Desktop or enterprise...</td>\n",
       "      <td>...</td>\n",
       "      <td>Male</td>\n",
       "      <td>Straight or heterosexual</td>\n",
       "      <td>Some college/university study without earning ...</td>\n",
       "      <td>White or of European descent</td>\n",
       "      <td>18 - 24 years old</td>\n",
       "      <td>Yes</td>\n",
       "      <td>NaN</td>\n",
       "      <td>The survey was an appropriate length</td>\n",
       "      <td>Somewhat easy</td>\n",
       "      <td>2018</td>\n",
       "    </tr>\n",
       "  </tbody>\n",
       "</table>\n",
       "<p>5 rows × 130 columns</p>\n",
       "</div>"
      ],
      "text/plain": [
       "   Respondent Hobby OpenSource         Country         Student  \\\n",
       "0           1   Yes         No           Kenya              No   \n",
       "1           3   Yes        Yes  United Kingdom              No   \n",
       "2           4   Yes        Yes   United States              No   \n",
       "3           5    No         No   United States              No   \n",
       "4           7   Yes         No    South Africa  Yes, part-time   \n",
       "\n",
       "           Employment                                    FormalEducation  \\\n",
       "0  Employed part-time           Bachelor’s degree (BA, BS, B.Eng., etc.)   \n",
       "1  Employed full-time           Bachelor’s degree (BA, BS, B.Eng., etc.)   \n",
       "2  Employed full-time                                   Associate degree   \n",
       "3  Employed full-time           Bachelor’s degree (BA, BS, B.Eng., etc.)   \n",
       "4  Employed full-time  Some college/university study without earning ...   \n",
       "\n",
       "                                      UndergradMajor  \\\n",
       "0                          Mathematics or statistics   \n",
       "1  A natural science (ex. biology, chemistry, phy...   \n",
       "2  Computer science, computer engineering, or sof...   \n",
       "3  Computer science, computer engineering, or sof...   \n",
       "4  Computer science, computer engineering, or sof...   \n",
       "\n",
       "                CompanySize  \\\n",
       "0        20 to 99 employees   \n",
       "1  10,000 or more employees   \n",
       "2        20 to 99 employees   \n",
       "3      100 to 499 employees   \n",
       "4  10,000 or more employees   \n",
       "\n",
       "                                             DevType  ... Gender  \\\n",
       "0                               Full-stack developer  ...   Male   \n",
       "1  Database administrator;DevOps specialist;Full-...  ...   Male   \n",
       "2           Engineering manager;Full-stack developer  ...    NaN   \n",
       "3                               Full-stack developer  ...   Male   \n",
       "4  Data or business analyst;Desktop or enterprise...  ...   Male   \n",
       "\n",
       "          SexualOrientation  \\\n",
       "0  Straight or heterosexual   \n",
       "1  Straight or heterosexual   \n",
       "2                       NaN   \n",
       "3  Straight or heterosexual   \n",
       "4  Straight or heterosexual   \n",
       "\n",
       "                                    EducationParents  \\\n",
       "0           Bachelor’s degree (BA, BS, B.Eng., etc.)   \n",
       "1           Bachelor’s degree (BA, BS, B.Eng., etc.)   \n",
       "2                                                NaN   \n",
       "3  Some college/university study without earning ...   \n",
       "4  Some college/university study without earning ...   \n",
       "\n",
       "                  RaceEthnicity                Age Dependents MilitaryUS  \\\n",
       "0   Black or of African descent  25 - 34 years old        Yes        NaN   \n",
       "1  White or of European descent  35 - 44 years old        Yes        NaN   \n",
       "2                           NaN                NaN        NaN        NaN   \n",
       "3  White or of European descent  35 - 44 years old         No         No   \n",
       "4  White or of European descent  18 - 24 years old        Yes        NaN   \n",
       "\n",
       "                          SurveyTooLong     SurveyEasy  year  \n",
       "0  The survey was an appropriate length      Very easy  2018  \n",
       "1  The survey was an appropriate length  Somewhat easy  2018  \n",
       "2                                   NaN            NaN  2018  \n",
       "3  The survey was an appropriate length  Somewhat easy  2018  \n",
       "4  The survey was an appropriate length  Somewhat easy  2018  \n",
       "\n",
       "[5 rows x 130 columns]"
      ]
     },
     "execution_count": 224,
     "metadata": {},
     "output_type": "execute_result"
    }
   ],
   "source": [
    "#2018 \n",
    "df_18.head()"
   ]
  },
  {
   "cell_type": "code",
   "execution_count": 225,
   "metadata": {
    "scrolled": false
   },
   "outputs": [
    {
     "data": {
      "text/html": [
       "<div>\n",
       "<style scoped>\n",
       "    .dataframe tbody tr th:only-of-type {\n",
       "        vertical-align: middle;\n",
       "    }\n",
       "\n",
       "    .dataframe tbody tr th {\n",
       "        vertical-align: top;\n",
       "    }\n",
       "\n",
       "    .dataframe thead th {\n",
       "        text-align: right;\n",
       "    }\n",
       "</style>\n",
       "<table border=\"1\" class=\"dataframe\">\n",
       "  <thead>\n",
       "    <tr style=\"text-align: right;\">\n",
       "      <th></th>\n",
       "      <th>Respondent</th>\n",
       "      <th>MainBranch</th>\n",
       "      <th>Hobbyist</th>\n",
       "      <th>OpenSourcer</th>\n",
       "      <th>OpenSource</th>\n",
       "      <th>Employment</th>\n",
       "      <th>Country</th>\n",
       "      <th>Student</th>\n",
       "      <th>EdLevel</th>\n",
       "      <th>UndergradMajor</th>\n",
       "      <th>...</th>\n",
       "      <th>SONewContent</th>\n",
       "      <th>Age</th>\n",
       "      <th>Gender</th>\n",
       "      <th>Trans</th>\n",
       "      <th>Sexuality</th>\n",
       "      <th>Ethnicity</th>\n",
       "      <th>Dependents</th>\n",
       "      <th>SurveyLength</th>\n",
       "      <th>SurveyEase</th>\n",
       "      <th>year</th>\n",
       "    </tr>\n",
       "  </thead>\n",
       "  <tbody>\n",
       "    <tr>\n",
       "      <th>0</th>\n",
       "      <td>1</td>\n",
       "      <td>I am a student who is learning to code</td>\n",
       "      <td>Yes</td>\n",
       "      <td>Never</td>\n",
       "      <td>The quality of OSS and closed source software ...</td>\n",
       "      <td>Not employed, and not looking for work</td>\n",
       "      <td>United Kingdom</td>\n",
       "      <td>No</td>\n",
       "      <td>Primary/elementary school</td>\n",
       "      <td>NaN</td>\n",
       "      <td>...</td>\n",
       "      <td>Tech articles written by other developers;Indu...</td>\n",
       "      <td>14.0</td>\n",
       "      <td>Man</td>\n",
       "      <td>No</td>\n",
       "      <td>Straight / Heterosexual</td>\n",
       "      <td>NaN</td>\n",
       "      <td>No</td>\n",
       "      <td>Appropriate in length</td>\n",
       "      <td>Neither easy nor difficult</td>\n",
       "      <td>2019</td>\n",
       "    </tr>\n",
       "    <tr>\n",
       "      <th>1</th>\n",
       "      <td>2</td>\n",
       "      <td>I am a student who is learning to code</td>\n",
       "      <td>No</td>\n",
       "      <td>Less than once per year</td>\n",
       "      <td>The quality of OSS and closed source software ...</td>\n",
       "      <td>Not employed, but looking for work</td>\n",
       "      <td>Bosnia and Herzegovina</td>\n",
       "      <td>Yes, full-time</td>\n",
       "      <td>Secondary school (e.g. American high school, G...</td>\n",
       "      <td>NaN</td>\n",
       "      <td>...</td>\n",
       "      <td>Tech articles written by other developers;Indu...</td>\n",
       "      <td>19.0</td>\n",
       "      <td>Man</td>\n",
       "      <td>No</td>\n",
       "      <td>Straight / Heterosexual</td>\n",
       "      <td>NaN</td>\n",
       "      <td>No</td>\n",
       "      <td>Appropriate in length</td>\n",
       "      <td>Neither easy nor difficult</td>\n",
       "      <td>2019</td>\n",
       "    </tr>\n",
       "    <tr>\n",
       "      <th>2</th>\n",
       "      <td>3</td>\n",
       "      <td>I am not primarily a developer, but I write co...</td>\n",
       "      <td>Yes</td>\n",
       "      <td>Never</td>\n",
       "      <td>The quality of OSS and closed source software ...</td>\n",
       "      <td>Employed full-time</td>\n",
       "      <td>Thailand</td>\n",
       "      <td>No</td>\n",
       "      <td>Bachelor’s degree (BA, BS, B.Eng., etc.)</td>\n",
       "      <td>Web development or web design</td>\n",
       "      <td>...</td>\n",
       "      <td>Tech meetups or events in your area;Courses on...</td>\n",
       "      <td>28.0</td>\n",
       "      <td>Man</td>\n",
       "      <td>No</td>\n",
       "      <td>Straight / Heterosexual</td>\n",
       "      <td>NaN</td>\n",
       "      <td>Yes</td>\n",
       "      <td>Appropriate in length</td>\n",
       "      <td>Neither easy nor difficult</td>\n",
       "      <td>2019</td>\n",
       "    </tr>\n",
       "    <tr>\n",
       "      <th>3</th>\n",
       "      <td>4</td>\n",
       "      <td>I am a developer by profession</td>\n",
       "      <td>No</td>\n",
       "      <td>Never</td>\n",
       "      <td>The quality of OSS and closed source software ...</td>\n",
       "      <td>Employed full-time</td>\n",
       "      <td>United States</td>\n",
       "      <td>No</td>\n",
       "      <td>Bachelor’s degree (BA, BS, B.Eng., etc.)</td>\n",
       "      <td>Computer science, computer engineering, or sof...</td>\n",
       "      <td>...</td>\n",
       "      <td>Tech articles written by other developers;Indu...</td>\n",
       "      <td>22.0</td>\n",
       "      <td>Man</td>\n",
       "      <td>No</td>\n",
       "      <td>Straight / Heterosexual</td>\n",
       "      <td>White or of European descent</td>\n",
       "      <td>No</td>\n",
       "      <td>Appropriate in length</td>\n",
       "      <td>Easy</td>\n",
       "      <td>2019</td>\n",
       "    </tr>\n",
       "    <tr>\n",
       "      <th>4</th>\n",
       "      <td>5</td>\n",
       "      <td>I am a developer by profession</td>\n",
       "      <td>Yes</td>\n",
       "      <td>Once a month or more often</td>\n",
       "      <td>OSS is, on average, of HIGHER quality than pro...</td>\n",
       "      <td>Employed full-time</td>\n",
       "      <td>Ukraine</td>\n",
       "      <td>No</td>\n",
       "      <td>Bachelor’s degree (BA, BS, B.Eng., etc.)</td>\n",
       "      <td>Computer science, computer engineering, or sof...</td>\n",
       "      <td>...</td>\n",
       "      <td>Tech meetups or events in your area;Courses on...</td>\n",
       "      <td>30.0</td>\n",
       "      <td>Man</td>\n",
       "      <td>No</td>\n",
       "      <td>Straight / Heterosexual</td>\n",
       "      <td>White or of European descent;Multiracial</td>\n",
       "      <td>No</td>\n",
       "      <td>Appropriate in length</td>\n",
       "      <td>Easy</td>\n",
       "      <td>2019</td>\n",
       "    </tr>\n",
       "  </tbody>\n",
       "</table>\n",
       "<p>5 rows × 86 columns</p>\n",
       "</div>"
      ],
      "text/plain": [
       "   Respondent                                         MainBranch Hobbyist  \\\n",
       "0           1             I am a student who is learning to code      Yes   \n",
       "1           2             I am a student who is learning to code       No   \n",
       "2           3  I am not primarily a developer, but I write co...      Yes   \n",
       "3           4                     I am a developer by profession       No   \n",
       "4           5                     I am a developer by profession      Yes   \n",
       "\n",
       "                  OpenSourcer  \\\n",
       "0                       Never   \n",
       "1     Less than once per year   \n",
       "2                       Never   \n",
       "3                       Never   \n",
       "4  Once a month or more often   \n",
       "\n",
       "                                          OpenSource  \\\n",
       "0  The quality of OSS and closed source software ...   \n",
       "1  The quality of OSS and closed source software ...   \n",
       "2  The quality of OSS and closed source software ...   \n",
       "3  The quality of OSS and closed source software ...   \n",
       "4  OSS is, on average, of HIGHER quality than pro...   \n",
       "\n",
       "                               Employment                 Country  \\\n",
       "0  Not employed, and not looking for work          United Kingdom   \n",
       "1      Not employed, but looking for work  Bosnia and Herzegovina   \n",
       "2                      Employed full-time                Thailand   \n",
       "3                      Employed full-time           United States   \n",
       "4                      Employed full-time                 Ukraine   \n",
       "\n",
       "          Student                                            EdLevel  \\\n",
       "0              No                          Primary/elementary school   \n",
       "1  Yes, full-time  Secondary school (e.g. American high school, G...   \n",
       "2              No           Bachelor’s degree (BA, BS, B.Eng., etc.)   \n",
       "3              No           Bachelor’s degree (BA, BS, B.Eng., etc.)   \n",
       "4              No           Bachelor’s degree (BA, BS, B.Eng., etc.)   \n",
       "\n",
       "                                      UndergradMajor  ...  \\\n",
       "0                                                NaN  ...   \n",
       "1                                                NaN  ...   \n",
       "2                      Web development or web design  ...   \n",
       "3  Computer science, computer engineering, or sof...  ...   \n",
       "4  Computer science, computer engineering, or sof...  ...   \n",
       "\n",
       "                                        SONewContent   Age Gender Trans  \\\n",
       "0  Tech articles written by other developers;Indu...  14.0    Man    No   \n",
       "1  Tech articles written by other developers;Indu...  19.0    Man    No   \n",
       "2  Tech meetups or events in your area;Courses on...  28.0    Man    No   \n",
       "3  Tech articles written by other developers;Indu...  22.0    Man    No   \n",
       "4  Tech meetups or events in your area;Courses on...  30.0    Man    No   \n",
       "\n",
       "                 Sexuality                                 Ethnicity  \\\n",
       "0  Straight / Heterosexual                                       NaN   \n",
       "1  Straight / Heterosexual                                       NaN   \n",
       "2  Straight / Heterosexual                                       NaN   \n",
       "3  Straight / Heterosexual              White or of European descent   \n",
       "4  Straight / Heterosexual  White or of European descent;Multiracial   \n",
       "\n",
       "  Dependents           SurveyLength                  SurveyEase  year  \n",
       "0         No  Appropriate in length  Neither easy nor difficult  2019  \n",
       "1         No  Appropriate in length  Neither easy nor difficult  2019  \n",
       "2        Yes  Appropriate in length  Neither easy nor difficult  2019  \n",
       "3         No  Appropriate in length                        Easy  2019  \n",
       "4         No  Appropriate in length                        Easy  2019  \n",
       "\n",
       "[5 rows x 86 columns]"
      ]
     },
     "execution_count": 225,
     "metadata": {},
     "output_type": "execute_result"
    }
   ],
   "source": [
    "#2019 \n",
    "df_19.head()"
   ]
  },
  {
   "cell_type": "code",
   "execution_count": 226,
   "metadata": {
    "scrolled": false
   },
   "outputs": [
    {
     "data": {
      "text/html": [
       "<div>\n",
       "<style scoped>\n",
       "    .dataframe tbody tr th:only-of-type {\n",
       "        vertical-align: middle;\n",
       "    }\n",
       "\n",
       "    .dataframe tbody tr th {\n",
       "        vertical-align: top;\n",
       "    }\n",
       "\n",
       "    .dataframe thead th {\n",
       "        text-align: right;\n",
       "    }\n",
       "</style>\n",
       "<table border=\"1\" class=\"dataframe\">\n",
       "  <thead>\n",
       "    <tr style=\"text-align: right;\">\n",
       "      <th></th>\n",
       "      <th>Respondent</th>\n",
       "      <th>MainBranch</th>\n",
       "      <th>Hobbyist</th>\n",
       "      <th>Age</th>\n",
       "      <th>Age1stCode</th>\n",
       "      <th>CompFreq</th>\n",
       "      <th>CompTotal</th>\n",
       "      <th>ConvertedComp</th>\n",
       "      <th>Country</th>\n",
       "      <th>CurrencyDesc</th>\n",
       "      <th>...</th>\n",
       "      <th>SurveyLength</th>\n",
       "      <th>Trans</th>\n",
       "      <th>UndergradMajor</th>\n",
       "      <th>WebframeDesireNextYear</th>\n",
       "      <th>WebframeWorkedWith</th>\n",
       "      <th>WelcomeChange</th>\n",
       "      <th>WorkWeekHrs</th>\n",
       "      <th>YearsCode</th>\n",
       "      <th>YearsCodePro</th>\n",
       "      <th>year</th>\n",
       "    </tr>\n",
       "  </thead>\n",
       "  <tbody>\n",
       "    <tr>\n",
       "      <th>0</th>\n",
       "      <td>1</td>\n",
       "      <td>I am a developer by profession</td>\n",
       "      <td>Yes</td>\n",
       "      <td>NaN</td>\n",
       "      <td>13</td>\n",
       "      <td>Monthly</td>\n",
       "      <td>NaN</td>\n",
       "      <td>NaN</td>\n",
       "      <td>Germany</td>\n",
       "      <td>European Euro</td>\n",
       "      <td>...</td>\n",
       "      <td>Appropriate in length</td>\n",
       "      <td>No</td>\n",
       "      <td>Computer science, computer engineering, or sof...</td>\n",
       "      <td>ASP.NET Core</td>\n",
       "      <td>ASP.NET;ASP.NET Core</td>\n",
       "      <td>Just as welcome now as I felt last year</td>\n",
       "      <td>50.0</td>\n",
       "      <td>36</td>\n",
       "      <td>27</td>\n",
       "      <td>2020</td>\n",
       "    </tr>\n",
       "    <tr>\n",
       "      <th>1</th>\n",
       "      <td>2</td>\n",
       "      <td>I am a developer by profession</td>\n",
       "      <td>No</td>\n",
       "      <td>NaN</td>\n",
       "      <td>19</td>\n",
       "      <td>NaN</td>\n",
       "      <td>NaN</td>\n",
       "      <td>NaN</td>\n",
       "      <td>United Kingdom</td>\n",
       "      <td>Pound sterling</td>\n",
       "      <td>...</td>\n",
       "      <td>NaN</td>\n",
       "      <td>NaN</td>\n",
       "      <td>Computer science, computer engineering, or sof...</td>\n",
       "      <td>NaN</td>\n",
       "      <td>NaN</td>\n",
       "      <td>Somewhat more welcome now than last year</td>\n",
       "      <td>NaN</td>\n",
       "      <td>7</td>\n",
       "      <td>4</td>\n",
       "      <td>2020</td>\n",
       "    </tr>\n",
       "    <tr>\n",
       "      <th>2</th>\n",
       "      <td>3</td>\n",
       "      <td>I code primarily as a hobby</td>\n",
       "      <td>Yes</td>\n",
       "      <td>NaN</td>\n",
       "      <td>15</td>\n",
       "      <td>NaN</td>\n",
       "      <td>NaN</td>\n",
       "      <td>NaN</td>\n",
       "      <td>Russian Federation</td>\n",
       "      <td>NaN</td>\n",
       "      <td>...</td>\n",
       "      <td>Appropriate in length</td>\n",
       "      <td>NaN</td>\n",
       "      <td>NaN</td>\n",
       "      <td>NaN</td>\n",
       "      <td>NaN</td>\n",
       "      <td>Somewhat more welcome now than last year</td>\n",
       "      <td>NaN</td>\n",
       "      <td>4</td>\n",
       "      <td>NaN</td>\n",
       "      <td>2020</td>\n",
       "    </tr>\n",
       "    <tr>\n",
       "      <th>3</th>\n",
       "      <td>4</td>\n",
       "      <td>I am a developer by profession</td>\n",
       "      <td>Yes</td>\n",
       "      <td>25.0</td>\n",
       "      <td>18</td>\n",
       "      <td>NaN</td>\n",
       "      <td>NaN</td>\n",
       "      <td>NaN</td>\n",
       "      <td>Albania</td>\n",
       "      <td>Albanian lek</td>\n",
       "      <td>...</td>\n",
       "      <td>NaN</td>\n",
       "      <td>No</td>\n",
       "      <td>Computer science, computer engineering, or sof...</td>\n",
       "      <td>NaN</td>\n",
       "      <td>NaN</td>\n",
       "      <td>Somewhat less welcome now than last year</td>\n",
       "      <td>40.0</td>\n",
       "      <td>7</td>\n",
       "      <td>4</td>\n",
       "      <td>2020</td>\n",
       "    </tr>\n",
       "    <tr>\n",
       "      <th>4</th>\n",
       "      <td>5</td>\n",
       "      <td>I used to be a developer by profession, but no...</td>\n",
       "      <td>Yes</td>\n",
       "      <td>31.0</td>\n",
       "      <td>16</td>\n",
       "      <td>NaN</td>\n",
       "      <td>NaN</td>\n",
       "      <td>NaN</td>\n",
       "      <td>United States</td>\n",
       "      <td>NaN</td>\n",
       "      <td>...</td>\n",
       "      <td>Too short</td>\n",
       "      <td>No</td>\n",
       "      <td>Computer science, computer engineering, or sof...</td>\n",
       "      <td>Django;Ruby on Rails</td>\n",
       "      <td>Ruby on Rails</td>\n",
       "      <td>Just as welcome now as I felt last year</td>\n",
       "      <td>NaN</td>\n",
       "      <td>15</td>\n",
       "      <td>8</td>\n",
       "      <td>2020</td>\n",
       "    </tr>\n",
       "  </tbody>\n",
       "</table>\n",
       "<p>5 rows × 62 columns</p>\n",
       "</div>"
      ],
      "text/plain": [
       "   Respondent                                         MainBranch Hobbyist  \\\n",
       "0           1                     I am a developer by profession      Yes   \n",
       "1           2                     I am a developer by profession       No   \n",
       "2           3                        I code primarily as a hobby      Yes   \n",
       "3           4                     I am a developer by profession      Yes   \n",
       "4           5  I used to be a developer by profession, but no...      Yes   \n",
       "\n",
       "    Age Age1stCode CompFreq  CompTotal  ConvertedComp             Country  \\\n",
       "0   NaN         13  Monthly        NaN            NaN             Germany   \n",
       "1   NaN         19      NaN        NaN            NaN      United Kingdom   \n",
       "2   NaN         15      NaN        NaN            NaN  Russian Federation   \n",
       "3  25.0         18      NaN        NaN            NaN             Albania   \n",
       "4  31.0         16      NaN        NaN            NaN       United States   \n",
       "\n",
       "     CurrencyDesc  ...           SurveyLength Trans  \\\n",
       "0   European Euro  ...  Appropriate in length    No   \n",
       "1  Pound sterling  ...                    NaN   NaN   \n",
       "2             NaN  ...  Appropriate in length   NaN   \n",
       "3    Albanian lek  ...                    NaN    No   \n",
       "4             NaN  ...              Too short    No   \n",
       "\n",
       "                                      UndergradMajor WebframeDesireNextYear  \\\n",
       "0  Computer science, computer engineering, or sof...           ASP.NET Core   \n",
       "1  Computer science, computer engineering, or sof...                    NaN   \n",
       "2                                                NaN                    NaN   \n",
       "3  Computer science, computer engineering, or sof...                    NaN   \n",
       "4  Computer science, computer engineering, or sof...   Django;Ruby on Rails   \n",
       "\n",
       "     WebframeWorkedWith                             WelcomeChange WorkWeekHrs  \\\n",
       "0  ASP.NET;ASP.NET Core   Just as welcome now as I felt last year        50.0   \n",
       "1                   NaN  Somewhat more welcome now than last year         NaN   \n",
       "2                   NaN  Somewhat more welcome now than last year         NaN   \n",
       "3                   NaN  Somewhat less welcome now than last year        40.0   \n",
       "4         Ruby on Rails   Just as welcome now as I felt last year         NaN   \n",
       "\n",
       "  YearsCode YearsCodePro  year  \n",
       "0        36           27  2020  \n",
       "1         7            4  2020  \n",
       "2         4          NaN  2020  \n",
       "3         7            4  2020  \n",
       "4        15            8  2020  \n",
       "\n",
       "[5 rows x 62 columns]"
      ]
     },
     "execution_count": 226,
     "metadata": {},
     "output_type": "execute_result"
    }
   ],
   "source": [
    "#2020 \n",
    "df_20.head()"
   ]
  },
  {
   "cell_type": "markdown",
   "metadata": {},
   "source": [
    "#### Quality Issues \n",
    "> There are some issues that needed to be fixed.\n",
    "\n",
    "\n",
    "- Rename columns to compare these data easly.\n",
    "- Handling missing values.\n",
    "- Selecting interesting columns.\n"
   ]
  },
  {
   "cell_type": "markdown",
   "metadata": {},
   "source": [
    "#### Selecting interesting columns\n",
    "Since that the goal of this project is to compare the four years data to gain insights, only the common columns are useful.<br> \n",
    "\n",
    "The selected columns are :\n",
    "- Programming as a Hobby\n",
    "- Country\n",
    "- Employment Status\n",
    "- Have Worked Language\n",
    "- Want Work Language\n",
    "- Have Worked Database\n",
    "- Want Work Database\n",
    "- Have Worked Platform\n",
    "- Want Work Platform\n",
    "- Formal Education\n",
    "- Years Coded Job\n",
    "- Years Coded JobPast\n",
    "- Job Satisfaction\n",
    "- Developer Type\n"
   ]
  },
  {
   "cell_type": "markdown",
   "metadata": {},
   "source": [
    "## Data Cleaning and Preparation\n"
   ]
  },
  {
   "cell_type": "markdown",
   "metadata": {},
   "source": [
    "### ` Developer Survey Results 2017`"
   ]
  },
  {
   "cell_type": "markdown",
   "metadata": {},
   "source": [
    "> Most of the columns needed to be renamed."
   ]
  },
  {
   "cell_type": "code",
   "execution_count": 227,
   "metadata": {},
   "outputs": [],
   "source": [
    "#Rename columns of 2017\n",
    "df_17.rename(columns={'ProgramHobby': \"Hobbyist\", 'FormalEducation': 'EdLevel',\n",
    "                      'HaveWorkedLanguage':'LanguageWorkedWith','YearsProgram':'YearsCode',\n",
    "                      'WantWorkLanguage':'LanguageDesireNextYear','YearsCodedJob':'YearsCodePro', \n",
    "                    'HaveWorkedDatabase':'DatabaseWorkedWith','WantWorkDatabase':'DatabaseDesireNextYear',\n",
    "                    'HaveWorkedPlatform':'PlatformWorkedWith','WantWorkPlatform':'PlatformDesireNextYear',\n",
    "                      'JobSatisfaction':'JobSat', 'EmploymentStatus':'Employment','Salary':'ConvertedComp',\n",
    "                      'DeveloperType':'DevType','Race':'Ethnicity','MajorUndergrad':'UndergradMajor'},inplace = True)"
   ]
  },
  {
   "cell_type": "code",
   "execution_count": 228,
   "metadata": {},
   "outputs": [],
   "source": [
    "#selecting columns\n",
    "df_17 = df_17[['Respondent', 'Hobbyist', 'Country', 'Employment', 'EdLevel',\n",
    "       'YearsCode', 'YearsCodePro', 'DevType', 'JobSat', 'LanguageWorkedWith',\n",
    "       'LanguageDesireNextYear', 'DatabaseWorkedWith',\n",
    "       'DatabaseDesireNextYear', 'PlatformWorkedWith',\n",
    "       'PlatformDesireNextYear', 'Gender','year','ConvertedComp','Ethnicity','UndergradMajor']]"
   ]
  },
  {
   "cell_type": "code",
   "execution_count": 229,
   "metadata": {
    "scrolled": true
   },
   "outputs": [
    {
     "data": {
      "text/html": [
       "<div>\n",
       "<style scoped>\n",
       "    .dataframe tbody tr th:only-of-type {\n",
       "        vertical-align: middle;\n",
       "    }\n",
       "\n",
       "    .dataframe tbody tr th {\n",
       "        vertical-align: top;\n",
       "    }\n",
       "\n",
       "    .dataframe thead th {\n",
       "        text-align: right;\n",
       "    }\n",
       "</style>\n",
       "<table border=\"1\" class=\"dataframe\">\n",
       "  <thead>\n",
       "    <tr style=\"text-align: right;\">\n",
       "      <th></th>\n",
       "      <th>Respondent</th>\n",
       "      <th>Hobbyist</th>\n",
       "      <th>Country</th>\n",
       "      <th>Employment</th>\n",
       "      <th>EdLevel</th>\n",
       "      <th>YearsCode</th>\n",
       "      <th>YearsCodePro</th>\n",
       "      <th>DevType</th>\n",
       "      <th>JobSat</th>\n",
       "      <th>LanguageWorkedWith</th>\n",
       "      <th>LanguageDesireNextYear</th>\n",
       "      <th>DatabaseWorkedWith</th>\n",
       "      <th>DatabaseDesireNextYear</th>\n",
       "      <th>PlatformWorkedWith</th>\n",
       "      <th>PlatformDesireNextYear</th>\n",
       "      <th>Gender</th>\n",
       "      <th>year</th>\n",
       "      <th>ConvertedComp</th>\n",
       "      <th>Ethnicity</th>\n",
       "      <th>UndergradMajor</th>\n",
       "    </tr>\n",
       "  </thead>\n",
       "  <tbody>\n",
       "    <tr>\n",
       "      <th>0</th>\n",
       "      <td>1</td>\n",
       "      <td>Yes, both</td>\n",
       "      <td>United States</td>\n",
       "      <td>Not employed, and not looking for work</td>\n",
       "      <td>Secondary school</td>\n",
       "      <td>2 to 3 years</td>\n",
       "      <td>NaN</td>\n",
       "      <td>NaN</td>\n",
       "      <td>NaN</td>\n",
       "      <td>Swift</td>\n",
       "      <td>Swift</td>\n",
       "      <td>NaN</td>\n",
       "      <td>NaN</td>\n",
       "      <td>iOS</td>\n",
       "      <td>iOS</td>\n",
       "      <td>Male</td>\n",
       "      <td>2017</td>\n",
       "      <td>NaN</td>\n",
       "      <td>White or of European descent</td>\n",
       "      <td>NaN</td>\n",
       "    </tr>\n",
       "    <tr>\n",
       "      <th>1</th>\n",
       "      <td>2</td>\n",
       "      <td>Yes, both</td>\n",
       "      <td>United Kingdom</td>\n",
       "      <td>Employed part-time</td>\n",
       "      <td>Some college/university study without earning ...</td>\n",
       "      <td>9 to 10 years</td>\n",
       "      <td>NaN</td>\n",
       "      <td>NaN</td>\n",
       "      <td>NaN</td>\n",
       "      <td>JavaScript; Python; Ruby; SQL</td>\n",
       "      <td>Java; Python; Ruby; SQL</td>\n",
       "      <td>MySQL; SQLite</td>\n",
       "      <td>MySQL; SQLite</td>\n",
       "      <td>Amazon Web Services (AWS)</td>\n",
       "      <td>Linux Desktop; Raspberry Pi; Amazon Web Servic...</td>\n",
       "      <td>Male</td>\n",
       "      <td>2017</td>\n",
       "      <td>NaN</td>\n",
       "      <td>White or of European descent</td>\n",
       "      <td>Computer science or software engineering</td>\n",
       "    </tr>\n",
       "    <tr>\n",
       "      <th>2</th>\n",
       "      <td>3</td>\n",
       "      <td>Yes, both</td>\n",
       "      <td>United Kingdom</td>\n",
       "      <td>Employed full-time</td>\n",
       "      <td>Bachelor's degree</td>\n",
       "      <td>20 or more years</td>\n",
       "      <td>20 or more years</td>\n",
       "      <td>Other</td>\n",
       "      <td>9.0</td>\n",
       "      <td>Java; PHP; Python</td>\n",
       "      <td>C; Python; Rust</td>\n",
       "      <td>MySQL</td>\n",
       "      <td>NaN</td>\n",
       "      <td>NaN</td>\n",
       "      <td>NaN</td>\n",
       "      <td>Male</td>\n",
       "      <td>2017</td>\n",
       "      <td>113750.0</td>\n",
       "      <td>White or of European descent</td>\n",
       "      <td>Computer science or software engineering</td>\n",
       "    </tr>\n",
       "    <tr>\n",
       "      <th>3</th>\n",
       "      <td>4</td>\n",
       "      <td>Yes, both</td>\n",
       "      <td>United States</td>\n",
       "      <td>Employed full-time</td>\n",
       "      <td>Doctoral degree</td>\n",
       "      <td>14 to 15 years</td>\n",
       "      <td>9 to 10 years</td>\n",
       "      <td>NaN</td>\n",
       "      <td>3.0</td>\n",
       "      <td>Matlab; Python; R; SQL</td>\n",
       "      <td>Matlab; Python; R; SQL</td>\n",
       "      <td>MongoDB; Redis; SQL Server; MySQL; SQLite</td>\n",
       "      <td>MongoDB; Redis; SQL Server; MySQL; SQLite</td>\n",
       "      <td>Windows Desktop; Linux Desktop; Mac OS; Amazon...</td>\n",
       "      <td>Windows Desktop; Linux Desktop; Mac OS; Amazon...</td>\n",
       "      <td>Male</td>\n",
       "      <td>2017</td>\n",
       "      <td>NaN</td>\n",
       "      <td>White or of European descent</td>\n",
       "      <td>A non-computer-focused engineering discipline</td>\n",
       "    </tr>\n",
       "    <tr>\n",
       "      <th>4</th>\n",
       "      <td>5</td>\n",
       "      <td>Yes, I program as a hobby</td>\n",
       "      <td>Switzerland</td>\n",
       "      <td>Employed full-time</td>\n",
       "      <td>Master's degree</td>\n",
       "      <td>20 or more years</td>\n",
       "      <td>10 to 11 years</td>\n",
       "      <td>Mobile developer; Graphics programming; Deskto...</td>\n",
       "      <td>8.0</td>\n",
       "      <td>NaN</td>\n",
       "      <td>NaN</td>\n",
       "      <td>NaN</td>\n",
       "      <td>NaN</td>\n",
       "      <td>NaN</td>\n",
       "      <td>NaN</td>\n",
       "      <td>NaN</td>\n",
       "      <td>2017</td>\n",
       "      <td>NaN</td>\n",
       "      <td>NaN</td>\n",
       "      <td>Computer science or software engineering</td>\n",
       "    </tr>\n",
       "  </tbody>\n",
       "</table>\n",
       "</div>"
      ],
      "text/plain": [
       "   Respondent                   Hobbyist         Country  \\\n",
       "0           1                  Yes, both   United States   \n",
       "1           2                  Yes, both  United Kingdom   \n",
       "2           3                  Yes, both  United Kingdom   \n",
       "3           4                  Yes, both   United States   \n",
       "4           5  Yes, I program as a hobby     Switzerland   \n",
       "\n",
       "                               Employment  \\\n",
       "0  Not employed, and not looking for work   \n",
       "1                      Employed part-time   \n",
       "2                      Employed full-time   \n",
       "3                      Employed full-time   \n",
       "4                      Employed full-time   \n",
       "\n",
       "                                             EdLevel         YearsCode  \\\n",
       "0                                   Secondary school      2 to 3 years   \n",
       "1  Some college/university study without earning ...     9 to 10 years   \n",
       "2                                  Bachelor's degree  20 or more years   \n",
       "3                                    Doctoral degree    14 to 15 years   \n",
       "4                                    Master's degree  20 or more years   \n",
       "\n",
       "       YearsCodePro                                            DevType  \\\n",
       "0               NaN                                                NaN   \n",
       "1               NaN                                                NaN   \n",
       "2  20 or more years                                              Other   \n",
       "3     9 to 10 years                                                NaN   \n",
       "4    10 to 11 years  Mobile developer; Graphics programming; Deskto...   \n",
       "\n",
       "   JobSat             LanguageWorkedWith   LanguageDesireNextYear  \\\n",
       "0     NaN                          Swift                    Swift   \n",
       "1     NaN  JavaScript; Python; Ruby; SQL  Java; Python; Ruby; SQL   \n",
       "2     9.0              Java; PHP; Python          C; Python; Rust   \n",
       "3     3.0         Matlab; Python; R; SQL   Matlab; Python; R; SQL   \n",
       "4     8.0                            NaN                      NaN   \n",
       "\n",
       "                          DatabaseWorkedWith  \\\n",
       "0                                        NaN   \n",
       "1                              MySQL; SQLite   \n",
       "2                                      MySQL   \n",
       "3  MongoDB; Redis; SQL Server; MySQL; SQLite   \n",
       "4                                        NaN   \n",
       "\n",
       "                      DatabaseDesireNextYear  \\\n",
       "0                                        NaN   \n",
       "1                              MySQL; SQLite   \n",
       "2                                        NaN   \n",
       "3  MongoDB; Redis; SQL Server; MySQL; SQLite   \n",
       "4                                        NaN   \n",
       "\n",
       "                                  PlatformWorkedWith  \\\n",
       "0                                                iOS   \n",
       "1                          Amazon Web Services (AWS)   \n",
       "2                                                NaN   \n",
       "3  Windows Desktop; Linux Desktop; Mac OS; Amazon...   \n",
       "4                                                NaN   \n",
       "\n",
       "                              PlatformDesireNextYear Gender  year  \\\n",
       "0                                                iOS   Male  2017   \n",
       "1  Linux Desktop; Raspberry Pi; Amazon Web Servic...   Male  2017   \n",
       "2                                                NaN   Male  2017   \n",
       "3  Windows Desktop; Linux Desktop; Mac OS; Amazon...   Male  2017   \n",
       "4                                                NaN    NaN  2017   \n",
       "\n",
       "   ConvertedComp                     Ethnicity  \\\n",
       "0            NaN  White or of European descent   \n",
       "1            NaN  White or of European descent   \n",
       "2       113750.0  White or of European descent   \n",
       "3            NaN  White or of European descent   \n",
       "4            NaN                           NaN   \n",
       "\n",
       "                                  UndergradMajor  \n",
       "0                                            NaN  \n",
       "1       Computer science or software engineering  \n",
       "2       Computer science or software engineering  \n",
       "3  A non-computer-focused engineering discipline  \n",
       "4       Computer science or software engineering  "
      ]
     },
     "execution_count": 229,
     "metadata": {},
     "output_type": "execute_result"
    }
   ],
   "source": [
    "#Test the change\n",
    "df_17.head()"
   ]
  },
  {
   "cell_type": "markdown",
   "metadata": {},
   "source": [
    "##### Jobsat"
   ]
  },
  {
   "cell_type": "code",
   "execution_count": 230,
   "metadata": {},
   "outputs": [],
   "source": [
    "# all the other survey results rank job satisfaction with catagries instead of number \n",
    "#here the jobsat are numerical must be change into catagries \n",
    "#remove nan \n",
    "df_17['JobSat']=df_17['JobSat'].fillna(0)\n",
    "#change the type\n",
    "df_17['JobSat']= df_17['JobSat'].astype(int)\n",
    "# create empty set \n",
    "def f(column):\n",
    "    '''\n",
    "    INPUT - \n",
    "            column_name - string - the name of the column you would like to know about\n",
    "    OUTPUT - \n",
    "            list contian the desired changes\n",
    "    '''\n",
    "    JobSat = []\n",
    "    for x in column: \n",
    "        if int(x) >= 1 and int(x) < 2:\n",
    "            JobSat.append('Very dissatisfied')\n",
    "        elif int(x) >= 2 and  int(x) <4:\n",
    "            JobSat.append('Slightly dissatisfied')\n",
    "        elif int(x) >= 4  and int(x) < 6:\n",
    "            JobSat.append('Slightly satisfied')\n",
    "        elif int(x) >= 6 :\n",
    "            JobSat.append('Very satisfied')\n",
    "        else :\n",
    "            JobSat.append('Neither satisfied nor dissatisfied')\n",
    "    return JobSat\n",
    "    \n",
    "    \n",
    "df_17['JobSat']=f(df_17['JobSat']) "
   ]
  },
  {
   "cell_type": "code",
   "execution_count": 231,
   "metadata": {
    "scrolled": true
   },
   "outputs": [
    {
     "data": {
      "text/plain": [
       "array(['Neither satisfied nor dissatisfied', 'Very satisfied',\n",
       "       'Slightly dissatisfied', 'Slightly satisfied', 'Very dissatisfied'],\n",
       "      dtype=object)"
      ]
     },
     "execution_count": 231,
     "metadata": {},
     "output_type": "execute_result"
    }
   ],
   "source": [
    "#test\n",
    "df_17['JobSat'].unique()"
   ]
  },
  {
   "cell_type": "code",
   "execution_count": 232,
   "metadata": {},
   "outputs": [
    {
     "data": {
      "text/plain": [
       "array(['Yes, both', 'Yes, I program as a hobby', 'No',\n",
       "       'Yes, I contribute to open source projects'], dtype=object)"
      ]
     },
     "execution_count": 232,
     "metadata": {},
     "output_type": "execute_result"
    }
   ],
   "source": [
    "#unique values of hobbyist\n",
    "df_17['Hobbyist'].unique()"
   ]
  },
  {
   "cell_type": "markdown",
   "metadata": {},
   "source": [
    "> we can only use yes or no to simplify our data"
   ]
  },
  {
   "cell_type": "code",
   "execution_count": 233,
   "metadata": {},
   "outputs": [],
   "source": [
    "# create an empty set\n",
    "Hobbyist = []\n",
    "\n",
    "for x in df_17['Hobbyist']: \n",
    "    if x == 'No' or x == 'Yes, both':\n",
    "        Hobbyist.append('No')\n",
    "    else : \n",
    "        Hobbyist.append('Yes')\n",
    "# Create a column for the list\n",
    "df_17['Hobbyist']= Hobbyist"
   ]
  },
  {
   "cell_type": "code",
   "execution_count": 234,
   "metadata": {},
   "outputs": [
    {
     "data": {
      "text/plain": [
       "array(['No', 'Yes'], dtype=object)"
      ]
     },
     "execution_count": 234,
     "metadata": {},
     "output_type": "execute_result"
    }
   ],
   "source": [
    "#test \n",
    "df_17['Hobbyist'].unique()"
   ]
  },
  {
   "cell_type": "code",
   "execution_count": 235,
   "metadata": {
    "scrolled": false
   },
   "outputs": [
    {
     "data": {
      "text/plain": [
       "<matplotlib.axes._subplots.AxesSubplot at 0x22f227f7080>"
      ]
     },
     "execution_count": 235,
     "metadata": {},
     "output_type": "execute_result"
    },
    {
     "data": {
      "image/png": "[encoded data removed]",
      "text/plain": [
       "<Figure size 432x288 with 1 Axes>"
      ]
     },
     "metadata": {
      "needs_background": "light"
     },
     "output_type": "display_data"
    }
   ],
   "source": [
    "# the distribution of ConvertedComp in 2017\n",
    "df_17['ConvertedComp'].hist()"
   ]
  },
  {
   "cell_type": "code",
   "execution_count": 236,
   "metadata": {},
   "outputs": [
    {
     "data": {
      "text/plain": [
       "array(['27', '4', nan, '8', '13', '2', '7', '20', '1', '23', '3', '12',\n",
       "       '17', '18', '10', '14', '29', '6', '28', '9', '15', '11', '16',\n",
       "       '25', 'Less than 1 year', '5', '21', '19', '35', '24', '32', '22',\n",
       "       '30', '38', '26', '40', '33', '31', 'More than 50 years', '34',\n",
       "       '36', '39', '37', '41', '45', '47', '42', '46', '50', '43', '44',\n",
       "       '48', '49'], dtype=object)"
      ]
     },
     "execution_count": 236,
     "metadata": {},
     "output_type": "execute_result"
    }
   ],
   "source": [
    "#uniques values of YearsCodePro\n",
    "df_20['YearsCodePro'].unique()"
   ]
  },
  {
   "cell_type": "code",
   "execution_count": 237,
   "metadata": {},
   "outputs": [
    {
     "data": {
      "text/plain": [
       "array([nan, '20 or more years', '9 to 10 years', '10 to 11 years',\n",
       "       '8 to 9 years', '7 to 8 years', '11 to 12 years', '15 to 16 years',\n",
       "       '1 to 2 years', '3 to 4 years', '12 to 13 years',\n",
       "       'Less than a year', '5 to 6 years', '16 to 17 years',\n",
       "       '13 to 14 years', '6 to 7 years', '2 to 3 years', '17 to 18 years',\n",
       "       '4 to 5 years', '14 to 15 years', '18 to 19 years',\n",
       "       '19 to 20 years'], dtype=object)"
      ]
     },
     "execution_count": 237,
     "metadata": {},
     "output_type": "execute_result"
    }
   ],
   "source": [
    "#uniques values of YearsCode\n",
    "df_17['YearsCodePro'].unique()"
   ]
  },
  {
   "cell_type": "markdown",
   "metadata": {},
   "source": [
    "> we can change these values from a range to single values"
   ]
  },
  {
   "cell_type": "code",
   "execution_count": 238,
   "metadata": {},
   "outputs": [
    {
     "data": {
      "text/plain": [
       "array(['nan', '20', '9', '10', '8', '7', '11', '15', '1', '3', '12',\n",
       "       'Less', '5', '16', '13', '6', '2', '17', '4', '14', '18', '19'],\n",
       "      dtype=object)"
      ]
     },
     "execution_count": 238,
     "metadata": {},
     "output_type": "execute_result"
    }
   ],
   "source": [
    "#change these values from a range to single values\n",
    "df_17['YearsCodePro']=df_17['YearsCodePro'].astype(str)\n",
    "df_17['YearsCodePro'] =df_17['YearsCodePro'].str.split(' ').str[0]\n",
    "df_17['YearsCodePro'].unique()"
   ]
  },
  {
   "cell_type": "code",
   "execution_count": 239,
   "metadata": {},
   "outputs": [
    {
     "data": {
      "text/plain": [
       "array(['2', '9', '20', '14', '6', '10', '13', '12', '15', '11', '8', '5',\n",
       "       '18', '7', '1', '3', 'Less', '4', '17', '16', '19', 'nan'],\n",
       "      dtype=object)"
      ]
     },
     "execution_count": 239,
     "metadata": {},
     "output_type": "execute_result"
    }
   ],
   "source": [
    "#change these values from a range to single values\n",
    "df_17['YearsCode']=df_17['YearsCode'].astype(str)\n",
    "df_17['YearsCode'] =df_17['YearsCode'].str.split(' ').str[0]\n",
    "df_17['YearsCode'].unique()"
   ]
  },
  {
   "cell_type": "code",
   "execution_count": 240,
   "metadata": {},
   "outputs": [
    {
     "data": {
      "text/plain": [
       "Bachelor's degree                                                    21609\n",
       "Master's degree                                                      11141\n",
       "Some college/university study without earning a bachelor's degree     8129\n",
       "Secondary school                                                      5908\n",
       "Doctoral degree                                                       1308\n",
       "I prefer not to answer                                                1109\n",
       "Primary/elementary school                                             1047\n",
       "Professional degree                                                    715\n",
       "I never completed any formal education                                 426\n",
       "Name: EdLevel, dtype: int64"
      ]
     },
     "execution_count": 240,
     "metadata": {},
     "output_type": "execute_result"
    }
   ],
   "source": [
    "df_17['EdLevel'].value_counts()"
   ]
  },
  {
   "cell_type": "code",
   "execution_count": 241,
   "metadata": {
    "scrolled": false
   },
   "outputs": [
    {
     "name": "stdout",
     "output_type": "stream",
     "text": [
      "<class 'pandas.core.frame.DataFrame'>\n",
      "RangeIndex: 51392 entries, 0 to 51391\n",
      "Data columns (total 20 columns):\n",
      " #   Column                  Non-Null Count  Dtype  \n",
      "---  ------                  --------------  -----  \n",
      " 0   Respondent              51392 non-null  int64  \n",
      " 1   Hobbyist                51392 non-null  object \n",
      " 2   Country                 51392 non-null  object \n",
      " 3   Employment              51392 non-null  object \n",
      " 4   EdLevel                 51392 non-null  object \n",
      " 5   YearsCode               51392 non-null  object \n",
      " 6   YearsCodePro            51392 non-null  object \n",
      " 7   DevType                 36125 non-null  object \n",
      " 8   JobSat                  51392 non-null  object \n",
      " 9   LanguageWorkedWith      36625 non-null  object \n",
      " 10  LanguageDesireNextYear  33771 non-null  object \n",
      " 11  DatabaseWorkedWith      29452 non-null  object \n",
      " 12  DatabaseDesireNextYear  25109 non-null  object \n",
      " 13  PlatformWorkedWith      29114 non-null  object \n",
      " 14  PlatformDesireNextYear  27884 non-null  object \n",
      " 15  Gender                  35047 non-null  object \n",
      " 16  year                    51392 non-null  int64  \n",
      " 17  ConvertedComp           12891 non-null  float64\n",
      " 18  Ethnicity               33033 non-null  object \n",
      " 19  UndergradMajor          42841 non-null  object \n",
      "dtypes: float64(1), int64(2), object(17)\n",
      "memory usage: 7.8+ MB\n"
     ]
    }
   ],
   "source": [
    "#test\n",
    "df_17.info()"
   ]
  },
  {
   "cell_type": "markdown",
   "metadata": {},
   "source": [
    "### ` Developer Survey Results 2018`"
   ]
  },
  {
   "cell_type": "code",
   "execution_count": 242,
   "metadata": {},
   "outputs": [
    {
     "data": {
      "text/plain": [
       "count      48529.000000\n",
       "mean       82896.502401\n",
       "std       136335.601003\n",
       "min            0.000000\n",
       "25%         8000.000000\n",
       "50%        50000.000000\n",
       "75%        97000.000000\n",
       "max      1000000.000000\n",
       "Name: Salary, dtype: float64"
      ]
     },
     "execution_count": 242,
     "metadata": {},
     "output_type": "execute_result"
    }
   ],
   "source": [
    "#Fixing Salary column outliers\n",
    "df_18[\"Salary\"] = pd.to_numeric(df_18[\"Salary\"], errors='coerce')\n",
    "df_18=df_18[df_18.Salary< 1.0000000000000002e+6]\n",
    "df_18[\"Salary\"].describe()"
   ]
  },
  {
   "cell_type": "code",
   "execution_count": 243,
   "metadata": {},
   "outputs": [],
   "source": [
    "#Rename columns of 2018\n",
    "df_18.rename(columns={'Hobby': \"Hobbyist\", 'FormalEducation': 'EdLevel',\n",
    "                      'YearsCoding':'YearsCode','YearsCodingProf':'YearsCodePro',\n",
    "                      'JobSatisfaction':'JobSat','Salary':'ConvertedComp','RaceEthnicity':'Ethnicity'},inplace = True)"
   ]
  },
  {
   "cell_type": "code",
   "execution_count": 244,
   "metadata": {},
   "outputs": [],
   "source": [
    "#selecting columns\n",
    "df_18 = df_18[['Respondent', 'Hobbyist', 'Country', 'Employment', 'EdLevel',\n",
    "       'YearsCode', 'YearsCodePro', 'DevType', 'JobSat', 'LanguageWorkedWith',\n",
    "       'LanguageDesireNextYear', 'DatabaseWorkedWith',\n",
    "       'DatabaseDesireNextYear', 'PlatformWorkedWith',\n",
    "       'PlatformDesireNextYear', 'Gender','year','ConvertedComp','Ethnicity','UndergradMajor']]"
   ]
  },
  {
   "cell_type": "code",
   "execution_count": 245,
   "metadata": {
    "scrolled": false
   },
   "outputs": [
    {
     "data": {
      "text/html": [
       "<div>\n",
       "<style scoped>\n",
       "    .dataframe tbody tr th:only-of-type {\n",
       "        vertical-align: middle;\n",
       "    }\n",
       "\n",
       "    .dataframe tbody tr th {\n",
       "        vertical-align: top;\n",
       "    }\n",
       "\n",
       "    .dataframe thead th {\n",
       "        text-align: right;\n",
       "    }\n",
       "</style>\n",
       "<table border=\"1\" class=\"dataframe\">\n",
       "  <thead>\n",
       "    <tr style=\"text-align: right;\">\n",
       "      <th></th>\n",
       "      <th>Respondent</th>\n",
       "      <th>Hobbyist</th>\n",
       "      <th>Country</th>\n",
       "      <th>Employment</th>\n",
       "      <th>EdLevel</th>\n",
       "      <th>YearsCode</th>\n",
       "      <th>YearsCodePro</th>\n",
       "      <th>DevType</th>\n",
       "      <th>JobSat</th>\n",
       "      <th>LanguageWorkedWith</th>\n",
       "      <th>LanguageDesireNextYear</th>\n",
       "      <th>DatabaseWorkedWith</th>\n",
       "      <th>DatabaseDesireNextYear</th>\n",
       "      <th>PlatformWorkedWith</th>\n",
       "      <th>PlatformDesireNextYear</th>\n",
       "      <th>Gender</th>\n",
       "      <th>year</th>\n",
       "      <th>ConvertedComp</th>\n",
       "      <th>Ethnicity</th>\n",
       "      <th>UndergradMajor</th>\n",
       "    </tr>\n",
       "  </thead>\n",
       "  <tbody>\n",
       "    <tr>\n",
       "      <th>1</th>\n",
       "      <td>3</td>\n",
       "      <td>Yes</td>\n",
       "      <td>United Kingdom</td>\n",
       "      <td>Employed full-time</td>\n",
       "      <td>Bachelor’s degree (BA, BS, B.Eng., etc.)</td>\n",
       "      <td>30 or more years</td>\n",
       "      <td>18-20 years</td>\n",
       "      <td>Database administrator;DevOps specialist;Full-...</td>\n",
       "      <td>Moderately dissatisfied</td>\n",
       "      <td>JavaScript;Python;Bash/Shell</td>\n",
       "      <td>Go;Python</td>\n",
       "      <td>Redis;PostgreSQL;Memcached</td>\n",
       "      <td>PostgreSQL</td>\n",
       "      <td>Linux</td>\n",
       "      <td>Linux</td>\n",
       "      <td>Male</td>\n",
       "      <td>2018</td>\n",
       "      <td>51000.0</td>\n",
       "      <td>White or of European descent</td>\n",
       "      <td>A natural science (ex. biology, chemistry, phy...</td>\n",
       "    </tr>\n",
       "    <tr>\n",
       "      <th>4</th>\n",
       "      <td>7</td>\n",
       "      <td>Yes</td>\n",
       "      <td>South Africa</td>\n",
       "      <td>Employed full-time</td>\n",
       "      <td>Some college/university study without earning ...</td>\n",
       "      <td>6-8 years</td>\n",
       "      <td>0-2 years</td>\n",
       "      <td>Data or business analyst;Desktop or enterprise...</td>\n",
       "      <td>Slightly satisfied</td>\n",
       "      <td>C;C++;Java;Matlab;R;SQL;Bash/Shell</td>\n",
       "      <td>Assembly;C;C++;Matlab;SQL;Bash/Shell</td>\n",
       "      <td>SQL Server;PostgreSQL;Oracle;IBM Db2</td>\n",
       "      <td>PostgreSQL;Oracle;IBM Db2</td>\n",
       "      <td>Arduino;Windows Desktop or Server</td>\n",
       "      <td>Arduino;Windows Desktop or Server</td>\n",
       "      <td>Male</td>\n",
       "      <td>2018</td>\n",
       "      <td>260000.0</td>\n",
       "      <td>White or of European descent</td>\n",
       "      <td>Computer science, computer engineering, or sof...</td>\n",
       "    </tr>\n",
       "    <tr>\n",
       "      <th>5</th>\n",
       "      <td>8</td>\n",
       "      <td>Yes</td>\n",
       "      <td>United Kingdom</td>\n",
       "      <td>Employed full-time</td>\n",
       "      <td>Bachelor’s degree (BA, BS, B.Eng., etc.)</td>\n",
       "      <td>6-8 years</td>\n",
       "      <td>3-5 years</td>\n",
       "      <td>Back-end developer;Database administrator;Fron...</td>\n",
       "      <td>Moderately satisfied</td>\n",
       "      <td>Java;JavaScript;Python;TypeScript;HTML;CSS</td>\n",
       "      <td>C#;Go;Java;JavaScript;Python;SQL;TypeScript;HT...</td>\n",
       "      <td>MongoDB</td>\n",
       "      <td>PostgreSQL</td>\n",
       "      <td>Linux</td>\n",
       "      <td>Linux</td>\n",
       "      <td>Male</td>\n",
       "      <td>2018</td>\n",
       "      <td>30000.0</td>\n",
       "      <td>White or of European descent</td>\n",
       "      <td>Computer science, computer engineering, or sof...</td>\n",
       "    </tr>\n",
       "    <tr>\n",
       "      <th>6</th>\n",
       "      <td>9</td>\n",
       "      <td>Yes</td>\n",
       "      <td>United States</td>\n",
       "      <td>Employed full-time</td>\n",
       "      <td>Some college/university study without earning ...</td>\n",
       "      <td>9-11 years</td>\n",
       "      <td>0-2 years</td>\n",
       "      <td>Back-end developer;Front-end developer;Full-st...</td>\n",
       "      <td>Slightly satisfied</td>\n",
       "      <td>JavaScript;HTML;CSS</td>\n",
       "      <td>C;Go;JavaScript;Python;HTML;CSS</td>\n",
       "      <td>MongoDB</td>\n",
       "      <td>NaN</td>\n",
       "      <td>Linux</td>\n",
       "      <td>Linux</td>\n",
       "      <td>Male</td>\n",
       "      <td>2018</td>\n",
       "      <td>120000.0</td>\n",
       "      <td>White or of European descent</td>\n",
       "      <td>Computer science, computer engineering, or sof...</td>\n",
       "    </tr>\n",
       "    <tr>\n",
       "      <th>8</th>\n",
       "      <td>11</td>\n",
       "      <td>Yes</td>\n",
       "      <td>United States</td>\n",
       "      <td>Employed full-time</td>\n",
       "      <td>Some college/university study without earning ...</td>\n",
       "      <td>30 or more years</td>\n",
       "      <td>21-23 years</td>\n",
       "      <td>Back-end developer;C-suite executive (CEO, CTO...</td>\n",
       "      <td>Moderately satisfied</td>\n",
       "      <td>Assembly;CoffeeScript;Erlang;Go;JavaScript;Lua...</td>\n",
       "      <td>Erlang;Go;Python;Rust;SQL</td>\n",
       "      <td>Redis;PostgreSQL;Amazon DynamoDB;Apache HBase;...</td>\n",
       "      <td>Redis;PostgreSQL;Amazon DynamoDB;Apache Hive;A...</td>\n",
       "      <td>Amazon Echo;AWS;iOS;Linux;Mac OS;Serverless</td>\n",
       "      <td>AWS;Linux;Mac OS;Serverless</td>\n",
       "      <td>Male</td>\n",
       "      <td>2018</td>\n",
       "      <td>250000.0</td>\n",
       "      <td>White or of European descent</td>\n",
       "      <td>Fine arts or performing arts (ex. graphic desi...</td>\n",
       "    </tr>\n",
       "  </tbody>\n",
       "</table>\n",
       "</div>"
      ],
      "text/plain": [
       "   Respondent Hobbyist         Country          Employment  \\\n",
       "1           3      Yes  United Kingdom  Employed full-time   \n",
       "4           7      Yes    South Africa  Employed full-time   \n",
       "5           8      Yes  United Kingdom  Employed full-time   \n",
       "6           9      Yes   United States  Employed full-time   \n",
       "8          11      Yes   United States  Employed full-time   \n",
       "\n",
       "                                             EdLevel         YearsCode  \\\n",
       "1           Bachelor’s degree (BA, BS, B.Eng., etc.)  30 or more years   \n",
       "4  Some college/university study without earning ...         6-8 years   \n",
       "5           Bachelor’s degree (BA, BS, B.Eng., etc.)         6-8 years   \n",
       "6  Some college/university study without earning ...        9-11 years   \n",
       "8  Some college/university study without earning ...  30 or more years   \n",
       "\n",
       "  YearsCodePro                                            DevType  \\\n",
       "1  18-20 years  Database administrator;DevOps specialist;Full-...   \n",
       "4    0-2 years  Data or business analyst;Desktop or enterprise...   \n",
       "5    3-5 years  Back-end developer;Database administrator;Fron...   \n",
       "6    0-2 years  Back-end developer;Front-end developer;Full-st...   \n",
       "8  21-23 years  Back-end developer;C-suite executive (CEO, CTO...   \n",
       "\n",
       "                    JobSat                                 LanguageWorkedWith  \\\n",
       "1  Moderately dissatisfied                       JavaScript;Python;Bash/Shell   \n",
       "4       Slightly satisfied                 C;C++;Java;Matlab;R;SQL;Bash/Shell   \n",
       "5     Moderately satisfied         Java;JavaScript;Python;TypeScript;HTML;CSS   \n",
       "6       Slightly satisfied                                JavaScript;HTML;CSS   \n",
       "8     Moderately satisfied  Assembly;CoffeeScript;Erlang;Go;JavaScript;Lua...   \n",
       "\n",
       "                              LanguageDesireNextYear  \\\n",
       "1                                          Go;Python   \n",
       "4               Assembly;C;C++;Matlab;SQL;Bash/Shell   \n",
       "5  C#;Go;Java;JavaScript;Python;SQL;TypeScript;HT...   \n",
       "6                    C;Go;JavaScript;Python;HTML;CSS   \n",
       "8                          Erlang;Go;Python;Rust;SQL   \n",
       "\n",
       "                                  DatabaseWorkedWith  \\\n",
       "1                         Redis;PostgreSQL;Memcached   \n",
       "4               SQL Server;PostgreSQL;Oracle;IBM Db2   \n",
       "5                                            MongoDB   \n",
       "6                                            MongoDB   \n",
       "8  Redis;PostgreSQL;Amazon DynamoDB;Apache HBase;...   \n",
       "\n",
       "                              DatabaseDesireNextYear  \\\n",
       "1                                         PostgreSQL   \n",
       "4                          PostgreSQL;Oracle;IBM Db2   \n",
       "5                                         PostgreSQL   \n",
       "6                                                NaN   \n",
       "8  Redis;PostgreSQL;Amazon DynamoDB;Apache Hive;A...   \n",
       "\n",
       "                            PlatformWorkedWith  \\\n",
       "1                                        Linux   \n",
       "4            Arduino;Windows Desktop or Server   \n",
       "5                                        Linux   \n",
       "6                                        Linux   \n",
       "8  Amazon Echo;AWS;iOS;Linux;Mac OS;Serverless   \n",
       "\n",
       "              PlatformDesireNextYear Gender  year  ConvertedComp  \\\n",
       "1                              Linux   Male  2018        51000.0   \n",
       "4  Arduino;Windows Desktop or Server   Male  2018       260000.0   \n",
       "5                              Linux   Male  2018        30000.0   \n",
       "6                              Linux   Male  2018       120000.0   \n",
       "8        AWS;Linux;Mac OS;Serverless   Male  2018       250000.0   \n",
       "\n",
       "                      Ethnicity  \\\n",
       "1  White or of European descent   \n",
       "4  White or of European descent   \n",
       "5  White or of European descent   \n",
       "6  White or of European descent   \n",
       "8  White or of European descent   \n",
       "\n",
       "                                      UndergradMajor  \n",
       "1  A natural science (ex. biology, chemistry, phy...  \n",
       "4  Computer science, computer engineering, or sof...  \n",
       "5  Computer science, computer engineering, or sof...  \n",
       "6  Computer science, computer engineering, or sof...  \n",
       "8  Fine arts or performing arts (ex. graphic desi...  "
      ]
     },
     "execution_count": 245,
     "metadata": {},
     "output_type": "execute_result"
    }
   ],
   "source": [
    "#testing change\n",
    "df_18.head()"
   ]
  },
  {
   "cell_type": "code",
   "execution_count": 246,
   "metadata": {},
   "outputs": [
    {
     "data": {
      "text/plain": [
       "array(['Moderately dissatisfied', 'Slightly satisfied',\n",
       "       'Moderately satisfied', 'Neither satisfied nor dissatisfied',\n",
       "       'Slightly dissatisfied', 'Extremely dissatisfied', nan,\n",
       "       'Extremely satisfied'], dtype=object)"
      ]
     },
     "execution_count": 246,
     "metadata": {},
     "output_type": "execute_result"
    }
   ],
   "source": [
    "#uniques values of job sat\n",
    "df_18['JobSat'].unique()"
   ]
  },
  {
   "cell_type": "code",
   "execution_count": 247,
   "metadata": {},
   "outputs": [],
   "source": [
    "#Here the job satisfaction ranked diffrently thsn the other results, instead of 7 catagories we need just five.\n",
    "#change the values to match the other dfs\n",
    "#create empty set\n",
    "JobSat = []\n",
    "#loop through the column\n",
    "for x in df_18['JobSat']: \n",
    "    '''\n",
    "    replace extremly and moderate with very and \n",
    "    '''\n",
    "    if x == 'Extremely dissatisfied' or x== 'Moderately dissatisfied' :\n",
    "        JobSat.append('Very dissatisfied')\n",
    "    elif x == 'Slightly dissatisfied': \n",
    "        JobSat.append('Slightly dissatisfied')\n",
    "    elif x == 'Slightly satisfied' :\n",
    "        JobSat.append('Slightly satisfied')\n",
    "    elif x==  'Extremely satisfied' or x== 'Moderately satisfied':\n",
    "        JobSat.append('Very satisfied')\n",
    "    else :\n",
    "        JobSat.append('Neither satisfied nor dissatisfied')\n",
    "# Create a column for the list\n",
    "df_18['JobSat']= JobSat"
   ]
  },
  {
   "cell_type": "code",
   "execution_count": 248,
   "metadata": {},
   "outputs": [
    {
     "data": {
      "text/plain": [
       "array(['Very dissatisfied', 'Slightly satisfied', 'Very satisfied',\n",
       "       'Neither satisfied nor dissatisfied', 'Slightly dissatisfied'],\n",
       "      dtype=object)"
      ]
     },
     "execution_count": 248,
     "metadata": {},
     "output_type": "execute_result"
    }
   ],
   "source": [
    "#test\n",
    "df_18['JobSat'].unique()"
   ]
  },
  {
   "cell_type": "code",
   "execution_count": 249,
   "metadata": {
    "scrolled": true
   },
   "outputs": [
    {
     "data": {
      "text/plain": [
       "array(['Yes', 'No'], dtype=object)"
      ]
     },
     "execution_count": 249,
     "metadata": {},
     "output_type": "execute_result"
    }
   ],
   "source": [
    "#uniques values of Hobbyist\n",
    "df_18['Hobbyist'].unique()"
   ]
  },
  {
   "cell_type": "code",
   "execution_count": 250,
   "metadata": {
    "scrolled": true
   },
   "outputs": [
    {
     "data": {
      "text/plain": [
       "count      48529.000000\n",
       "mean       82896.502401\n",
       "std       136335.601003\n",
       "min            0.000000\n",
       "25%         8000.000000\n",
       "50%        50000.000000\n",
       "75%        97000.000000\n",
       "max      1000000.000000\n",
       "Name: ConvertedComp, dtype: float64"
      ]
     },
     "execution_count": 250,
     "metadata": {},
     "output_type": "execute_result"
    }
   ],
   "source": [
    "#description of ConvertedComp\n",
    "df_18['ConvertedComp'].describe()"
   ]
  },
  {
   "cell_type": "code",
   "execution_count": 251,
   "metadata": {
    "scrolled": false
   },
   "outputs": [
    {
     "data": {
      "text/plain": [
       "<matplotlib.axes._subplots.AxesSubplot at 0x22f1a272048>"
      ]
     },
     "execution_count": 251,
     "metadata": {},
     "output_type": "execute_result"
    },
    {
     "data": {
      "image/png": "[encoded data removed]",
      "text/plain": [
       "<Figure size 432x288 with 1 Axes>"
      ]
     },
     "metadata": {
      "needs_background": "light"
     },
     "output_type": "display_data"
    }
   ],
   "source": [
    "#hist of ConvertedComp\n",
    "df_18['ConvertedComp'].hist()"
   ]
  },
  {
   "cell_type": "code",
   "execution_count": 252,
   "metadata": {},
   "outputs": [
    {
     "data": {
      "text/plain": [
       "11"
      ]
     },
     "execution_count": 252,
     "metadata": {},
     "output_type": "execute_result"
    }
   ],
   "source": [
    "df_18['YearsCode'].nunique()"
   ]
  },
  {
   "cell_type": "code",
   "execution_count": 253,
   "metadata": {},
   "outputs": [
    {
     "data": {
      "text/plain": [
       "12"
      ]
     },
     "execution_count": 253,
     "metadata": {},
     "output_type": "execute_result"
    }
   ],
   "source": [
    "df_18['YearsCode']=df_18['YearsCode'].astype(str)\n",
    "df_18['YearsCode'] =df_18['YearsCode'].str.split('-').str[0]\n",
    "df_18['YearsCode'].nunique()"
   ]
  },
  {
   "cell_type": "code",
   "execution_count": 254,
   "metadata": {},
   "outputs": [
    {
     "data": {
      "text/plain": [
       "array(['18-20 years', '0-2 years', '3-5 years', '21-23 years',\n",
       "       '12-14 years', '6-8 years', '9-11 years', '24-26 years',\n",
       "       '15-17 years', '30 or more years', '27-29 years', nan],\n",
       "      dtype=object)"
      ]
     },
     "execution_count": 254,
     "metadata": {},
     "output_type": "execute_result"
    }
   ],
   "source": [
    "df_18['YearsCodePro'].unique()"
   ]
  },
  {
   "cell_type": "code",
   "execution_count": 255,
   "metadata": {},
   "outputs": [
    {
     "data": {
      "text/plain": [
       "array(['18', '0', '3', '21', '12', '6', '9', '24', '15',\n",
       "       '30 or more years', '27', 'nan'], dtype=object)"
      ]
     },
     "execution_count": 255,
     "metadata": {},
     "output_type": "execute_result"
    }
   ],
   "source": [
    "df_18['YearsCodePro']=df_18['YearsCodePro'].astype(str)\n",
    "df_18['YearsCodePro'] =df_18['YearsCodePro'].str.split('-').str[0]\n",
    "df_18['YearsCodePro'].unique()"
   ]
  },
  {
   "cell_type": "code",
   "execution_count": 256,
   "metadata": {},
   "outputs": [
    {
     "data": {
      "text/plain": [
       "Bachelor’s degree (BA, BS, B.Eng., etc.)                                              22798\n",
       "Master’s degree (MA, MS, M.Eng., MBA, etc.)                                           11303\n",
       "Some college/university study without earning a degree                                 6326\n",
       "Secondary school (e.g. American high school, German Realschule or Gymnasium, etc.)     3343\n",
       "Associate degree                                                                       1534\n",
       "Other doctoral degree (Ph.D, Ed.D., etc.)                                              1223\n",
       "Professional degree (JD, MD, etc.)                                                      640\n",
       "Primary/elementary school                                                               452\n",
       "I never completed any formal education                                                  193\n",
       "Name: EdLevel, dtype: int64"
      ]
     },
     "execution_count": 256,
     "metadata": {},
     "output_type": "execute_result"
    }
   ],
   "source": [
    "df_18['EdLevel'].value_counts()"
   ]
  },
  {
   "cell_type": "code",
   "execution_count": 257,
   "metadata": {},
   "outputs": [
    {
     "data": {
      "text/plain": [
       "Bachelor's degree                                                    34101\n",
       "Some college/university study without earning a bachelor's degree     6326\n",
       "Secondary school                                                      3343\n",
       "Associate degree                                                      1534\n",
       "Other doctoral degree                                                 1223\n",
       "Professional degree                                                    640\n",
       "Primary/elementary school                                              452\n",
       "I never completed any formal education                                 193\n",
       "Name: EdLevel, dtype: int64"
      ]
     },
     "execution_count": 257,
     "metadata": {},
     "output_type": "execute_result"
    }
   ],
   "source": [
    "#simplify the edlevel\n",
    "#dropping nan values since that fillna is not usuful here and there is no avaliable method to replace missing value\n",
    "df_18=df_18.dropna(subset=['EdLevel'])\n",
    "df_18.loc[df_18['EdLevel'].str.contains(\"BA\"), 'EdLevel'] = \"Bachelor's degree\"\n",
    "df_18.loc[df_18['EdLevel'].str.contains(\"MA\"), 'EdLevel'] = \"Master's degree\"\n",
    "df_18.loc[df_18['EdLevel'].str.contains(\"Ph.D\"), 'EdLevel'] = \"Other doctoral degree\"\n",
    "df_18.loc[df_18['EdLevel'].str.contains(\"without\"), 'EdLevel'] = \"Some college/university study without earning a bachelor's degree\"\n",
    "df_18.loc[df_18['EdLevel'].str.contains(\"Associate degree\"), 'EdLevel'] = \"Associate degree\"\n",
    "df_18.loc[df_18['EdLevel'].str.contains(\"JD\"), 'EdLevel'] = \"Professional degree\"\n",
    "df_18.loc[df_18['EdLevel'].str.contains(\"Secondary school\"), 'EdLevel'] = \"Secondary school\"\n",
    "\n",
    "\n",
    "df_18['EdLevel'].value_counts()"
   ]
  },
  {
   "cell_type": "code",
   "execution_count": 258,
   "metadata": {
    "scrolled": false
   },
   "outputs": [
    {
     "name": "stdout",
     "output_type": "stream",
     "text": [
      "<class 'pandas.core.frame.DataFrame'>\n",
      "Int64Index: 47812 entries, 1 to 89965\n",
      "Data columns (total 20 columns):\n",
      " #   Column                  Non-Null Count  Dtype  \n",
      "---  ------                  --------------  -----  \n",
      " 0   Respondent              47812 non-null  int64  \n",
      " 1   Hobbyist                47812 non-null  object \n",
      " 2   Country                 47812 non-null  object \n",
      " 3   Employment              47658 non-null  object \n",
      " 4   EdLevel                 47812 non-null  object \n",
      " 5   YearsCode               47812 non-null  object \n",
      " 6   YearsCodePro            47812 non-null  object \n",
      " 7   DevType                 47476 non-null  object \n",
      " 8   JobSat                  47812 non-null  object \n",
      " 9   LanguageWorkedWith      46570 non-null  object \n",
      " 10  LanguageDesireNextYear  43987 non-null  object \n",
      " 11  DatabaseWorkedWith      40549 non-null  object \n",
      " 12  DatabaseDesireNextYear  35402 non-null  object \n",
      " 13  PlatformWorkedWith      40474 non-null  object \n",
      " 14  PlatformDesireNextYear  37925 non-null  object \n",
      " 15  Gender                  44622 non-null  object \n",
      " 16  year                    47812 non-null  int64  \n",
      " 17  ConvertedComp           47812 non-null  float64\n",
      " 18  Ethnicity               41448 non-null  object \n",
      " 19  UndergradMajor          42766 non-null  object \n",
      "dtypes: float64(1), int64(2), object(17)\n",
      "memory usage: 7.7+ MB\n"
     ]
    }
   ],
   "source": [
    "#testing changes\n",
    "df_18.info()"
   ]
  },
  {
   "cell_type": "markdown",
   "metadata": {},
   "source": [
    "### ` Developer Survey Results 2019`"
   ]
  },
  {
   "cell_type": "code",
   "execution_count": 259,
   "metadata": {},
   "outputs": [],
   "source": [
    "#selecting columns\n",
    "df_19 = df_19[['Respondent', 'Hobbyist', 'Country', 'Employment', 'EdLevel',\n",
    "       'YearsCode', 'YearsCodePro', 'DevType', 'JobSat', 'LanguageWorkedWith',\n",
    "       'LanguageDesireNextYear', 'DatabaseWorkedWith',\n",
    "       'DatabaseDesireNextYear', 'PlatformWorkedWith',\n",
    "       'PlatformDesireNextYear', 'Gender','year','ConvertedComp','Ethnicity','UndergradMajor']]"
   ]
  },
  {
   "cell_type": "code",
   "execution_count": 260,
   "metadata": {
    "scrolled": false
   },
   "outputs": [
    {
     "data": {
      "text/html": [
       "<div>\n",
       "<style scoped>\n",
       "    .dataframe tbody tr th:only-of-type {\n",
       "        vertical-align: middle;\n",
       "    }\n",
       "\n",
       "    .dataframe tbody tr th {\n",
       "        vertical-align: top;\n",
       "    }\n",
       "\n",
       "    .dataframe thead th {\n",
       "        text-align: right;\n",
       "    }\n",
       "</style>\n",
       "<table border=\"1\" class=\"dataframe\">\n",
       "  <thead>\n",
       "    <tr style=\"text-align: right;\">\n",
       "      <th></th>\n",
       "      <th>Respondent</th>\n",
       "      <th>Hobbyist</th>\n",
       "      <th>Country</th>\n",
       "      <th>Employment</th>\n",
       "      <th>EdLevel</th>\n",
       "      <th>YearsCode</th>\n",
       "      <th>YearsCodePro</th>\n",
       "      <th>DevType</th>\n",
       "      <th>JobSat</th>\n",
       "      <th>LanguageWorkedWith</th>\n",
       "      <th>LanguageDesireNextYear</th>\n",
       "      <th>DatabaseWorkedWith</th>\n",
       "      <th>DatabaseDesireNextYear</th>\n",
       "      <th>PlatformWorkedWith</th>\n",
       "      <th>PlatformDesireNextYear</th>\n",
       "      <th>Gender</th>\n",
       "      <th>year</th>\n",
       "      <th>ConvertedComp</th>\n",
       "      <th>Ethnicity</th>\n",
       "      <th>UndergradMajor</th>\n",
       "    </tr>\n",
       "  </thead>\n",
       "  <tbody>\n",
       "    <tr>\n",
       "      <th>0</th>\n",
       "      <td>1</td>\n",
       "      <td>Yes</td>\n",
       "      <td>United Kingdom</td>\n",
       "      <td>Not employed, and not looking for work</td>\n",
       "      <td>Primary/elementary school</td>\n",
       "      <td>4</td>\n",
       "      <td>NaN</td>\n",
       "      <td>NaN</td>\n",
       "      <td>NaN</td>\n",
       "      <td>HTML/CSS;Java;JavaScript;Python</td>\n",
       "      <td>C;C++;C#;Go;HTML/CSS;Java;JavaScript;Python;SQL</td>\n",
       "      <td>SQLite</td>\n",
       "      <td>MySQL</td>\n",
       "      <td>MacOS;Windows</td>\n",
       "      <td>Android;Arduino;Windows</td>\n",
       "      <td>Man</td>\n",
       "      <td>2019</td>\n",
       "      <td>NaN</td>\n",
       "      <td>NaN</td>\n",
       "      <td>NaN</td>\n",
       "    </tr>\n",
       "    <tr>\n",
       "      <th>1</th>\n",
       "      <td>2</td>\n",
       "      <td>No</td>\n",
       "      <td>Bosnia and Herzegovina</td>\n",
       "      <td>Not employed, but looking for work</td>\n",
       "      <td>Secondary school (e.g. American high school, G...</td>\n",
       "      <td>NaN</td>\n",
       "      <td>NaN</td>\n",
       "      <td>Developer, desktop or enterprise applications;...</td>\n",
       "      <td>NaN</td>\n",
       "      <td>C++;HTML/CSS;Python</td>\n",
       "      <td>C++;HTML/CSS;JavaScript;SQL</td>\n",
       "      <td>NaN</td>\n",
       "      <td>MySQL</td>\n",
       "      <td>Windows</td>\n",
       "      <td>Windows</td>\n",
       "      <td>Man</td>\n",
       "      <td>2019</td>\n",
       "      <td>NaN</td>\n",
       "      <td>NaN</td>\n",
       "      <td>NaN</td>\n",
       "    </tr>\n",
       "    <tr>\n",
       "      <th>2</th>\n",
       "      <td>3</td>\n",
       "      <td>Yes</td>\n",
       "      <td>Thailand</td>\n",
       "      <td>Employed full-time</td>\n",
       "      <td>Bachelor’s degree (BA, BS, B.Eng., etc.)</td>\n",
       "      <td>3</td>\n",
       "      <td>1</td>\n",
       "      <td>Designer;Developer, back-end;Developer, front-...</td>\n",
       "      <td>Slightly satisfied</td>\n",
       "      <td>HTML/CSS</td>\n",
       "      <td>Elixir;HTML/CSS</td>\n",
       "      <td>PostgreSQL</td>\n",
       "      <td>PostgreSQL</td>\n",
       "      <td>NaN</td>\n",
       "      <td>NaN</td>\n",
       "      <td>Man</td>\n",
       "      <td>2019</td>\n",
       "      <td>8820.0</td>\n",
       "      <td>NaN</td>\n",
       "      <td>Web development or web design</td>\n",
       "    </tr>\n",
       "    <tr>\n",
       "      <th>3</th>\n",
       "      <td>4</td>\n",
       "      <td>No</td>\n",
       "      <td>United States</td>\n",
       "      <td>Employed full-time</td>\n",
       "      <td>Bachelor’s degree (BA, BS, B.Eng., etc.)</td>\n",
       "      <td>3</td>\n",
       "      <td>Less than 1 year</td>\n",
       "      <td>Developer, full-stack</td>\n",
       "      <td>Slightly satisfied</td>\n",
       "      <td>C;C++;C#;Python;SQL</td>\n",
       "      <td>C;C#;JavaScript;SQL</td>\n",
       "      <td>MySQL;SQLite</td>\n",
       "      <td>MySQL;SQLite</td>\n",
       "      <td>Linux;Windows</td>\n",
       "      <td>Linux;Windows</td>\n",
       "      <td>Man</td>\n",
       "      <td>2019</td>\n",
       "      <td>61000.0</td>\n",
       "      <td>White or of European descent</td>\n",
       "      <td>Computer science, computer engineering, or sof...</td>\n",
       "    </tr>\n",
       "    <tr>\n",
       "      <th>4</th>\n",
       "      <td>5</td>\n",
       "      <td>Yes</td>\n",
       "      <td>Ukraine</td>\n",
       "      <td>Employed full-time</td>\n",
       "      <td>Bachelor’s degree (BA, BS, B.Eng., etc.)</td>\n",
       "      <td>16</td>\n",
       "      <td>9</td>\n",
       "      <td>Academic researcher;Developer, desktop or ente...</td>\n",
       "      <td>Slightly dissatisfied</td>\n",
       "      <td>C++;HTML/CSS;Java;JavaScript;Python;SQL;VBA</td>\n",
       "      <td>HTML/CSS;Java;JavaScript;SQL;WebAssembly</td>\n",
       "      <td>Couchbase;MongoDB;MySQL;Oracle;PostgreSQL;SQLite</td>\n",
       "      <td>Couchbase;Firebase;MongoDB;MySQL;Oracle;Postgr...</td>\n",
       "      <td>Android;Linux;MacOS;Slack;Windows</td>\n",
       "      <td>Android;Docker;Kubernetes;Linux;Slack</td>\n",
       "      <td>Man</td>\n",
       "      <td>2019</td>\n",
       "      <td>NaN</td>\n",
       "      <td>White or of European descent;Multiracial</td>\n",
       "      <td>Computer science, computer engineering, or sof...</td>\n",
       "    </tr>\n",
       "  </tbody>\n",
       "</table>\n",
       "</div>"
      ],
      "text/plain": [
       "   Respondent Hobbyist                 Country  \\\n",
       "0           1      Yes          United Kingdom   \n",
       "1           2       No  Bosnia and Herzegovina   \n",
       "2           3      Yes                Thailand   \n",
       "3           4       No           United States   \n",
       "4           5      Yes                 Ukraine   \n",
       "\n",
       "                               Employment  \\\n",
       "0  Not employed, and not looking for work   \n",
       "1      Not employed, but looking for work   \n",
       "2                      Employed full-time   \n",
       "3                      Employed full-time   \n",
       "4                      Employed full-time   \n",
       "\n",
       "                                             EdLevel YearsCode  \\\n",
       "0                          Primary/elementary school         4   \n",
       "1  Secondary school (e.g. American high school, G...       NaN   \n",
       "2           Bachelor’s degree (BA, BS, B.Eng., etc.)         3   \n",
       "3           Bachelor’s degree (BA, BS, B.Eng., etc.)         3   \n",
       "4           Bachelor’s degree (BA, BS, B.Eng., etc.)        16   \n",
       "\n",
       "       YearsCodePro                                            DevType  \\\n",
       "0               NaN                                                NaN   \n",
       "1               NaN  Developer, desktop or enterprise applications;...   \n",
       "2                 1  Designer;Developer, back-end;Developer, front-...   \n",
       "3  Less than 1 year                              Developer, full-stack   \n",
       "4                 9  Academic researcher;Developer, desktop or ente...   \n",
       "\n",
       "                  JobSat                           LanguageWorkedWith  \\\n",
       "0                    NaN              HTML/CSS;Java;JavaScript;Python   \n",
       "1                    NaN                          C++;HTML/CSS;Python   \n",
       "2     Slightly satisfied                                     HTML/CSS   \n",
       "3     Slightly satisfied                          C;C++;C#;Python;SQL   \n",
       "4  Slightly dissatisfied  C++;HTML/CSS;Java;JavaScript;Python;SQL;VBA   \n",
       "\n",
       "                            LanguageDesireNextYear  \\\n",
       "0  C;C++;C#;Go;HTML/CSS;Java;JavaScript;Python;SQL   \n",
       "1                      C++;HTML/CSS;JavaScript;SQL   \n",
       "2                                  Elixir;HTML/CSS   \n",
       "3                              C;C#;JavaScript;SQL   \n",
       "4         HTML/CSS;Java;JavaScript;SQL;WebAssembly   \n",
       "\n",
       "                                 DatabaseWorkedWith  \\\n",
       "0                                            SQLite   \n",
       "1                                               NaN   \n",
       "2                                        PostgreSQL   \n",
       "3                                      MySQL;SQLite   \n",
       "4  Couchbase;MongoDB;MySQL;Oracle;PostgreSQL;SQLite   \n",
       "\n",
       "                              DatabaseDesireNextYear  \\\n",
       "0                                              MySQL   \n",
       "1                                              MySQL   \n",
       "2                                         PostgreSQL   \n",
       "3                                       MySQL;SQLite   \n",
       "4  Couchbase;Firebase;MongoDB;MySQL;Oracle;Postgr...   \n",
       "\n",
       "                  PlatformWorkedWith                 PlatformDesireNextYear  \\\n",
       "0                      MacOS;Windows                Android;Arduino;Windows   \n",
       "1                            Windows                                Windows   \n",
       "2                                NaN                                    NaN   \n",
       "3                      Linux;Windows                          Linux;Windows   \n",
       "4  Android;Linux;MacOS;Slack;Windows  Android;Docker;Kubernetes;Linux;Slack   \n",
       "\n",
       "  Gender  year  ConvertedComp                                 Ethnicity  \\\n",
       "0    Man  2019            NaN                                       NaN   \n",
       "1    Man  2019            NaN                                       NaN   \n",
       "2    Man  2019         8820.0                                       NaN   \n",
       "3    Man  2019        61000.0              White or of European descent   \n",
       "4    Man  2019            NaN  White or of European descent;Multiracial   \n",
       "\n",
       "                                      UndergradMajor  \n",
       "0                                                NaN  \n",
       "1                                                NaN  \n",
       "2                      Web development or web design  \n",
       "3  Computer science, computer engineering, or sof...  \n",
       "4  Computer science, computer engineering, or sof...  "
      ]
     },
     "execution_count": 260,
     "metadata": {},
     "output_type": "execute_result"
    }
   ],
   "source": [
    "\n",
    "df_19.head()"
   ]
  },
  {
   "cell_type": "code",
   "execution_count": 261,
   "metadata": {},
   "outputs": [
    {
     "data": {
      "text/plain": [
       "array([nan, 'Slightly satisfied', 'Slightly dissatisfied',\n",
       "       'Neither satisfied nor dissatisfied', 'Very satisfied',\n",
       "       'Very dissatisfied'], dtype=object)"
      ]
     },
     "execution_count": 261,
     "metadata": {},
     "output_type": "execute_result"
    }
   ],
   "source": [
    "df_19['JobSat'].unique()"
   ]
  },
  {
   "cell_type": "code",
   "execution_count": 262,
   "metadata": {
    "scrolled": false
   },
   "outputs": [
    {
     "data": {
      "text/plain": [
       "array(['Yes', 'No'], dtype=object)"
      ]
     },
     "execution_count": 262,
     "metadata": {},
     "output_type": "execute_result"
    }
   ],
   "source": [
    "df_19['Hobbyist'].unique()"
   ]
  },
  {
   "cell_type": "code",
   "execution_count": 263,
   "metadata": {},
   "outputs": [
    {
     "data": {
      "text/plain": [
       "count      54705.000000\n",
       "mean       93380.435755\n",
       "std       152717.006553\n",
       "min            0.000000\n",
       "25%        25187.000000\n",
       "50%        55056.000000\n",
       "75%        96240.000000\n",
       "max      1000000.000000\n",
       "Name: ConvertedComp, dtype: float64"
      ]
     },
     "execution_count": 263,
     "metadata": {},
     "output_type": "execute_result"
    }
   ],
   "source": [
    "df_19=df_19[df_19.ConvertedComp < 1.0000000000000002e+6]\n",
    "df_19['ConvertedComp'].describe()"
   ]
  },
  {
   "cell_type": "code",
   "execution_count": 264,
   "metadata": {
    "scrolled": true
   },
   "outputs": [
    {
     "data": {
      "text/plain": [
       "<matplotlib.axes._subplots.AxesSubplot at 0x22f0e322a58>"
      ]
     },
     "execution_count": 264,
     "metadata": {},
     "output_type": "execute_result"
    },
    {
     "data": {
      "image/png": "[encoded data removed]",
      "text/plain": [
       "<Figure size 432x288 with 1 Axes>"
      ]
     },
     "metadata": {
      "needs_background": "light"
     },
     "output_type": "display_data"
    }
   ],
   "source": [
    "df_19['ConvertedComp'].hist()"
   ]
  },
  {
   "cell_type": "code",
   "execution_count": 265,
   "metadata": {
    "scrolled": true
   },
   "outputs": [
    {
     "data": {
      "text/plain": [
       "Bachelor’s degree (BA, BS, B.Eng., etc.)                                              26394\n",
       "Master’s degree (MA, MS, M.Eng., MBA, etc.)                                           13635\n",
       "Some college/university study without earning a degree                                 6380\n",
       "Secondary school (e.g. American high school, German Realschule or Gymnasium, etc.)     2801\n",
       "Associate degree                                                                       1800\n",
       "Other doctoral degree (Ph.D, Ed.D., etc.)                                              1664\n",
       "Professional degree (JD, MD, etc.)                                                      737\n",
       "Primary/elementary school                                                               256\n",
       "I never completed any formal education                                                  215\n",
       "Name: EdLevel, dtype: int64"
      ]
     },
     "execution_count": 265,
     "metadata": {},
     "output_type": "execute_result"
    }
   ],
   "source": [
    "df_19['EdLevel'].value_counts()"
   ]
  },
  {
   "cell_type": "code",
   "execution_count": 266,
   "metadata": {},
   "outputs": [],
   "source": [
    "#simplify the edlevel\n",
    "df_19=df_19.dropna(subset=['EdLevel'])\n",
    "df_19.loc[df_19['EdLevel'].str.contains(\"BA\"), 'EdLevel'] = \"Bachelor's degree\"\n",
    "df_19.loc[df_19['EdLevel'].str.contains(\"MA\"), 'EdLevel'] = \"Master's degree\"\n",
    "df_19.loc[df_19['EdLevel'].str.contains(\"Ph.D\"), 'EdLevel'] = \"Other doctoral degree\"\n",
    "df_19.loc[df_19['EdLevel'].str.contains(\"without\"), 'EdLevel'] = \"Some college/university study without earning a bachelor's degree\"\n",
    "df_19.loc[df_19['EdLevel'].str.contains(\"Associate degree\"), 'EdLevel'] = \"Associate degree\"\n",
    "df_19.loc[df_19['EdLevel'].str.contains(\"JD\"), 'EdLevel'] = \"Professional degree\"\n",
    "df_19.loc[df_19['EdLevel'].str.contains(\"Secondary school\"), 'EdLevel'] = \"Secondary school\"\n",
    "\n",
    "\n"
   ]
  },
  {
   "cell_type": "code",
   "execution_count": 267,
   "metadata": {},
   "outputs": [
    {
     "data": {
      "text/plain": [
       "Bachelor's degree                                                    40029\n",
       "Some college/university study without earning a bachelor's degree     6380\n",
       "Secondary school                                                      2801\n",
       "Associate degree                                                      1800\n",
       "Other doctoral degree                                                 1664\n",
       "Professional degree                                                    737\n",
       "Primary/elementary school                                              256\n",
       "I never completed any formal education                                 215\n",
       "Name: EdLevel, dtype: int64"
      ]
     },
     "execution_count": 267,
     "metadata": {},
     "output_type": "execute_result"
    }
   ],
   "source": [
    "df_19['EdLevel'].value_counts()"
   ]
  },
  {
   "cell_type": "markdown",
   "metadata": {},
   "source": [
    "### ` Developer Survey Results 2020`"
   ]
  },
  {
   "cell_type": "code",
   "execution_count": 268,
   "metadata": {
    "scrolled": false
   },
   "outputs": [
    {
     "data": {
      "text/html": [
       "<div>\n",
       "<style scoped>\n",
       "    .dataframe tbody tr th:only-of-type {\n",
       "        vertical-align: middle;\n",
       "    }\n",
       "\n",
       "    .dataframe tbody tr th {\n",
       "        vertical-align: top;\n",
       "    }\n",
       "\n",
       "    .dataframe thead th {\n",
       "        text-align: right;\n",
       "    }\n",
       "</style>\n",
       "<table border=\"1\" class=\"dataframe\">\n",
       "  <thead>\n",
       "    <tr style=\"text-align: right;\">\n",
       "      <th></th>\n",
       "      <th>Respondent</th>\n",
       "      <th>Hobbyist</th>\n",
       "      <th>Country</th>\n",
       "      <th>Employment</th>\n",
       "      <th>EdLevel</th>\n",
       "      <th>YearsCode</th>\n",
       "      <th>YearsCodePro</th>\n",
       "      <th>DevType</th>\n",
       "      <th>JobSat</th>\n",
       "      <th>LanguageWorkedWith</th>\n",
       "      <th>LanguageDesireNextYear</th>\n",
       "      <th>DatabaseWorkedWith</th>\n",
       "      <th>DatabaseDesireNextYear</th>\n",
       "      <th>PlatformWorkedWith</th>\n",
       "      <th>PlatformDesireNextYear</th>\n",
       "      <th>Gender</th>\n",
       "      <th>year</th>\n",
       "      <th>ConvertedComp</th>\n",
       "      <th>Ethnicity</th>\n",
       "      <th>UndergradMajor</th>\n",
       "    </tr>\n",
       "  </thead>\n",
       "  <tbody>\n",
       "    <tr>\n",
       "      <th>0</th>\n",
       "      <td>1</td>\n",
       "      <td>Yes</td>\n",
       "      <td>Germany</td>\n",
       "      <td>Independent contractor, freelancer, or self-em...</td>\n",
       "      <td>Master’s degree (M.A., M.S., M.Eng., MBA, etc.)</td>\n",
       "      <td>36</td>\n",
       "      <td>27</td>\n",
       "      <td>Developer, desktop or enterprise applications;...</td>\n",
       "      <td>Slightly satisfied</td>\n",
       "      <td>C#;HTML/CSS;JavaScript</td>\n",
       "      <td>C#;HTML/CSS;JavaScript</td>\n",
       "      <td>Elasticsearch;Microsoft SQL Server;Oracle</td>\n",
       "      <td>Microsoft SQL Server</td>\n",
       "      <td>Windows</td>\n",
       "      <td>Android;iOS;Kubernetes;Microsoft Azure;Windows</td>\n",
       "      <td>Man</td>\n",
       "      <td>2020</td>\n",
       "      <td>NaN</td>\n",
       "      <td>White or of European descent</td>\n",
       "      <td>Computer science, computer engineering, or sof...</td>\n",
       "    </tr>\n",
       "    <tr>\n",
       "      <th>1</th>\n",
       "      <td>2</td>\n",
       "      <td>No</td>\n",
       "      <td>United Kingdom</td>\n",
       "      <td>Employed full-time</td>\n",
       "      <td>Bachelor’s degree (B.A., B.S., B.Eng., etc.)</td>\n",
       "      <td>7</td>\n",
       "      <td>4</td>\n",
       "      <td>Developer, full-stack;Developer, mobile</td>\n",
       "      <td>Very dissatisfied</td>\n",
       "      <td>JavaScript;Swift</td>\n",
       "      <td>Python;Swift</td>\n",
       "      <td>NaN</td>\n",
       "      <td>NaN</td>\n",
       "      <td>iOS</td>\n",
       "      <td>iOS;Kubernetes;Linux;MacOS</td>\n",
       "      <td>NaN</td>\n",
       "      <td>2020</td>\n",
       "      <td>NaN</td>\n",
       "      <td>NaN</td>\n",
       "      <td>Computer science, computer engineering, or sof...</td>\n",
       "    </tr>\n",
       "    <tr>\n",
       "      <th>2</th>\n",
       "      <td>3</td>\n",
       "      <td>Yes</td>\n",
       "      <td>Russian Federation</td>\n",
       "      <td>NaN</td>\n",
       "      <td>NaN</td>\n",
       "      <td>4</td>\n",
       "      <td>NaN</td>\n",
       "      <td>NaN</td>\n",
       "      <td>NaN</td>\n",
       "      <td>Objective-C;Python;Swift</td>\n",
       "      <td>Objective-C;Python;Swift</td>\n",
       "      <td>NaN</td>\n",
       "      <td>NaN</td>\n",
       "      <td>NaN</td>\n",
       "      <td>NaN</td>\n",
       "      <td>NaN</td>\n",
       "      <td>2020</td>\n",
       "      <td>NaN</td>\n",
       "      <td>NaN</td>\n",
       "      <td>NaN</td>\n",
       "    </tr>\n",
       "    <tr>\n",
       "      <th>3</th>\n",
       "      <td>4</td>\n",
       "      <td>Yes</td>\n",
       "      <td>Albania</td>\n",
       "      <td>NaN</td>\n",
       "      <td>Master’s degree (M.A., M.S., M.Eng., MBA, etc.)</td>\n",
       "      <td>7</td>\n",
       "      <td>4</td>\n",
       "      <td>NaN</td>\n",
       "      <td>Slightly dissatisfied</td>\n",
       "      <td>NaN</td>\n",
       "      <td>NaN</td>\n",
       "      <td>NaN</td>\n",
       "      <td>NaN</td>\n",
       "      <td>NaN</td>\n",
       "      <td>NaN</td>\n",
       "      <td>Man</td>\n",
       "      <td>2020</td>\n",
       "      <td>NaN</td>\n",
       "      <td>White or of European descent</td>\n",
       "      <td>Computer science, computer engineering, or sof...</td>\n",
       "    </tr>\n",
       "    <tr>\n",
       "      <th>4</th>\n",
       "      <td>5</td>\n",
       "      <td>Yes</td>\n",
       "      <td>United States</td>\n",
       "      <td>Employed full-time</td>\n",
       "      <td>Bachelor’s degree (B.A., B.S., B.Eng., etc.)</td>\n",
       "      <td>15</td>\n",
       "      <td>8</td>\n",
       "      <td>NaN</td>\n",
       "      <td>NaN</td>\n",
       "      <td>HTML/CSS;Ruby;SQL</td>\n",
       "      <td>Java;Ruby;Scala</td>\n",
       "      <td>MySQL;PostgreSQL;Redis;SQLite</td>\n",
       "      <td>MySQL;PostgreSQL</td>\n",
       "      <td>AWS;Docker;Linux;MacOS;Windows</td>\n",
       "      <td>Docker;Google Cloud Platform;Heroku;Linux;Windows</td>\n",
       "      <td>Man</td>\n",
       "      <td>2020</td>\n",
       "      <td>NaN</td>\n",
       "      <td>White or of European descent</td>\n",
       "      <td>Computer science, computer engineering, or sof...</td>\n",
       "    </tr>\n",
       "  </tbody>\n",
       "</table>\n",
       "</div>"
      ],
      "text/plain": [
       "   Respondent Hobbyist             Country  \\\n",
       "0           1      Yes             Germany   \n",
       "1           2       No      United Kingdom   \n",
       "2           3      Yes  Russian Federation   \n",
       "3           4      Yes             Albania   \n",
       "4           5      Yes       United States   \n",
       "\n",
       "                                          Employment  \\\n",
       "0  Independent contractor, freelancer, or self-em...   \n",
       "1                                 Employed full-time   \n",
       "2                                                NaN   \n",
       "3                                                NaN   \n",
       "4                                 Employed full-time   \n",
       "\n",
       "                                           EdLevel YearsCode YearsCodePro  \\\n",
       "0  Master’s degree (M.A., M.S., M.Eng., MBA, etc.)        36           27   \n",
       "1     Bachelor’s degree (B.A., B.S., B.Eng., etc.)         7            4   \n",
       "2                                              NaN         4          NaN   \n",
       "3  Master’s degree (M.A., M.S., M.Eng., MBA, etc.)         7            4   \n",
       "4     Bachelor’s degree (B.A., B.S., B.Eng., etc.)        15            8   \n",
       "\n",
       "                                             DevType                 JobSat  \\\n",
       "0  Developer, desktop or enterprise applications;...     Slightly satisfied   \n",
       "1            Developer, full-stack;Developer, mobile      Very dissatisfied   \n",
       "2                                                NaN                    NaN   \n",
       "3                                                NaN  Slightly dissatisfied   \n",
       "4                                                NaN                    NaN   \n",
       "\n",
       "         LanguageWorkedWith    LanguageDesireNextYear  \\\n",
       "0    C#;HTML/CSS;JavaScript    C#;HTML/CSS;JavaScript   \n",
       "1          JavaScript;Swift              Python;Swift   \n",
       "2  Objective-C;Python;Swift  Objective-C;Python;Swift   \n",
       "3                       NaN                       NaN   \n",
       "4         HTML/CSS;Ruby;SQL           Java;Ruby;Scala   \n",
       "\n",
       "                          DatabaseWorkedWith DatabaseDesireNextYear  \\\n",
       "0  Elasticsearch;Microsoft SQL Server;Oracle   Microsoft SQL Server   \n",
       "1                                        NaN                    NaN   \n",
       "2                                        NaN                    NaN   \n",
       "3                                        NaN                    NaN   \n",
       "4              MySQL;PostgreSQL;Redis;SQLite       MySQL;PostgreSQL   \n",
       "\n",
       "               PlatformWorkedWith  \\\n",
       "0                         Windows   \n",
       "1                             iOS   \n",
       "2                             NaN   \n",
       "3                             NaN   \n",
       "4  AWS;Docker;Linux;MacOS;Windows   \n",
       "\n",
       "                              PlatformDesireNextYear Gender  year  \\\n",
       "0     Android;iOS;Kubernetes;Microsoft Azure;Windows    Man  2020   \n",
       "1                         iOS;Kubernetes;Linux;MacOS    NaN  2020   \n",
       "2                                                NaN    NaN  2020   \n",
       "3                                                NaN    Man  2020   \n",
       "4  Docker;Google Cloud Platform;Heroku;Linux;Windows    Man  2020   \n",
       "\n",
       "   ConvertedComp                     Ethnicity  \\\n",
       "0            NaN  White or of European descent   \n",
       "1            NaN                           NaN   \n",
       "2            NaN                           NaN   \n",
       "3            NaN  White or of European descent   \n",
       "4            NaN  White or of European descent   \n",
       "\n",
       "                                      UndergradMajor  \n",
       "0  Computer science, computer engineering, or sof...  \n",
       "1  Computer science, computer engineering, or sof...  \n",
       "2                                                NaN  \n",
       "3  Computer science, computer engineering, or sof...  \n",
       "4  Computer science, computer engineering, or sof...  "
      ]
     },
     "execution_count": 268,
     "metadata": {},
     "output_type": "execute_result"
    }
   ],
   "source": [
    "#selecting columns\n",
    "df_20 = df_20[['Respondent', 'Hobbyist', 'Country', 'Employment', 'EdLevel',\n",
    "       'YearsCode', 'YearsCodePro', 'DevType', 'JobSat', 'LanguageWorkedWith',\n",
    "       'LanguageDesireNextYear', 'DatabaseWorkedWith',\n",
    "       'DatabaseDesireNextYear', 'PlatformWorkedWith',\n",
    "       'PlatformDesireNextYear', 'Gender','year','ConvertedComp','Ethnicity','UndergradMajor']]\n",
    "#dropping missing values\n",
    "df_20.head()"
   ]
  },
  {
   "cell_type": "code",
   "execution_count": 269,
   "metadata": {},
   "outputs": [
    {
     "data": {
      "text/plain": [
       "array(['Yes', 'No', nan], dtype=object)"
      ]
     },
     "execution_count": 269,
     "metadata": {},
     "output_type": "execute_result"
    }
   ],
   "source": [
    "df_20['Hobbyist'].unique()"
   ]
  },
  {
   "cell_type": "code",
   "execution_count": 270,
   "metadata": {
    "scrolled": true
   },
   "outputs": [],
   "source": [
    "df_20=df_20[df_20.ConvertedComp < 1e+6]\n"
   ]
  },
  {
   "cell_type": "code",
   "execution_count": 271,
   "metadata": {
    "scrolled": false
   },
   "outputs": [
    {
     "data": {
      "text/plain": [
       "<matplotlib.axes._subplots.AxesSubplot at 0x22f0e2da630>"
      ]
     },
     "execution_count": 271,
     "metadata": {},
     "output_type": "execute_result"
    },
    {
     "data": {
      "image/png": "[encoded data removed]",
      "text/plain": [
       "<Figure size 432x288 with 1 Axes>"
      ]
     },
     "metadata": {
      "needs_background": "light"
     },
     "output_type": "display_data"
    }
   ],
   "source": [
    "df_20.ConvertedComp.hist()"
   ]
  },
  {
   "cell_type": "code",
   "execution_count": 272,
   "metadata": {},
   "outputs": [
    {
     "data": {
      "text/plain": [
       "Bachelor’s degree (B.A., B.S., B.Eng., etc.)                                          16509\n",
       "Master’s degree (M.A., M.S., M.Eng., MBA, etc.)                                        8535\n",
       "Some college/university study without earning a degree                                 4018\n",
       "Secondary school (e.g. American high school, German Realschule or Gymnasium, etc.)     1449\n",
       "Associate degree (A.A., A.S., etc.)                                                    1142\n",
       "Other doctoral degree (Ph.D., Ed.D., etc.)                                             1122\n",
       "Professional degree (JD, MD, etc.)                                                      473\n",
       "Primary/elementary school                                                               149\n",
       "I never completed any formal education                                                  149\n",
       "Name: EdLevel, dtype: int64"
      ]
     },
     "execution_count": 272,
     "metadata": {},
     "output_type": "execute_result"
    }
   ],
   "source": [
    "df_20['EdLevel'].value_counts()"
   ]
  },
  {
   "cell_type": "code",
   "execution_count": 273,
   "metadata": {},
   "outputs": [
    {
     "data": {
      "text/plain": [
       "Bachelor's degree                                                    25044\n",
       "Some college/university study without earning a bachelor's degree     4018\n",
       "Secondary school                                                      1449\n",
       "Associate degree                                                      1142\n",
       "Other doctoral degree                                                 1122\n",
       "Professional degree                                                    473\n",
       "Primary/elementary school                                              149\n",
       "I never completed any formal education                                 149\n",
       "Name: EdLevel, dtype: int64"
      ]
     },
     "execution_count": 273,
     "metadata": {},
     "output_type": "execute_result"
    }
   ],
   "source": [
    "#simplify the edlevel\n",
    "df_20=df_20.dropna(subset=['EdLevel'])\n",
    "df_20.loc[df_20['EdLevel'].str.contains(\"BA\"), 'EdLevel'] = \"Bachelor's degree\"\n",
    "df_20.loc[df_20['EdLevel'].str.contains(\"B.A.\"), 'EdLevel'] = \"Bachelor's degree\"\n",
    "\n",
    "df_20.loc[df_20['EdLevel'].str.contains(\"MA\"), 'EdLevel'] = \"Master's degree\"\n",
    "df_20.loc[df_20['EdLevel'].str.contains(\"Ph.D\"), 'EdLevel'] = \"Other doctoral degree\"\n",
    "df_20.loc[df_20['EdLevel'].str.contains(\"without\"), 'EdLevel'] = \"Some college/university study without earning a bachelor's degree\"\n",
    "df_20.loc[df_20['EdLevel'].str.contains(\"Associate degree\"), 'EdLevel'] = \"Associate degree\"\n",
    "df_20.loc[df_20['EdLevel'].str.contains(\"JD\"), 'EdLevel'] = \"Professional degree\"\n",
    "df_20.loc[df_20['EdLevel'].str.contains(\"Secondary school\"), 'EdLevel'] = \"Secondary school\"\n",
    "\n",
    "\n",
    "df_20['EdLevel'].value_counts()"
   ]
  },
  {
   "cell_type": "markdown",
   "metadata": {},
   "source": [
    "# Prepare Data"
   ]
  },
  {
   "cell_type": "code",
   "execution_count": 274,
   "metadata": {
    "scrolled": false
   },
   "outputs": [
    {
     "name": "stdout",
     "output_type": "stream",
     "text": [
      "<class 'pandas.core.frame.DataFrame'>\n",
      "Int64Index: 186632 entries, 0 to 64154\n",
      "Data columns (total 20 columns):\n",
      " #   Column                  Non-Null Count   Dtype  \n",
      "---  ------                  --------------   -----  \n",
      " 0   Respondent              186632 non-null  int64  \n",
      " 1   Hobbyist                186632 non-null  object \n",
      " 2   Country                 186632 non-null  object \n",
      " 3   Employment              186313 non-null  object \n",
      " 4   EdLevel                 186632 non-null  object \n",
      " 5   YearsCode               186439 non-null  object \n",
      " 6   YearsCodePro            186353 non-null  object \n",
      " 7   DevType                 169973 non-null  object \n",
      " 8   JobSat                  186532 non-null  object \n",
      " 9   LanguageWorkedWith      169183 non-null  object \n",
      " 10  LanguageDesireNextYear  160268 non-null  object \n",
      " 11  DatabaseWorkedWith      146716 non-null  object \n",
      " 12  DatabaseDesireNextYear  129536 non-null  object \n",
      " 13  PlatformWorkedWith      150565 non-null  object \n",
      " 14  PlatformDesireNextYear  142974 non-null  object \n",
      " 15  Gender                  163718 non-null  object \n",
      " 16  year                    186632 non-null  int64  \n",
      " 17  ConvertedComp           148131 non-null  float64\n",
      " 18  Ethnicity               152991 non-null  object \n",
      " 19  UndergradMajor          166175 non-null  object \n",
      "dtypes: float64(1), int64(2), object(17)\n",
      "memory usage: 29.9+ MB\n"
     ]
    }
   ],
   "source": [
    "#combaine the data set \n",
    "frames=[df_17,df_18,df_19,df_20]\n",
    "df=pd.concat(frames,sort=False)\n",
    "df.info()"
   ]
  },
  {
   "cell_type": "code",
   "execution_count": 275,
   "metadata": {},
   "outputs": [
    {
     "data": {
      "text/plain": [
       "(186632, 20)"
      ]
     },
     "execution_count": 275,
     "metadata": {},
     "output_type": "execute_result"
    }
   ],
   "source": [
    "df.shape"
   ]
  },
  {
   "cell_type": "code",
   "execution_count": 276,
   "metadata": {
    "scrolled": false
   },
   "outputs": [
    {
     "data": {
      "text/plain": [
       "Respondent                  int64\n",
       "Hobbyist                   object\n",
       "Country                    object\n",
       "Employment                 object\n",
       "EdLevel                    object\n",
       "YearsCode                  object\n",
       "YearsCodePro               object\n",
       "DevType                    object\n",
       "JobSat                     object\n",
       "LanguageWorkedWith         object\n",
       "LanguageDesireNextYear     object\n",
       "DatabaseWorkedWith         object\n",
       "DatabaseDesireNextYear     object\n",
       "PlatformWorkedWith         object\n",
       "PlatformDesireNextYear     object\n",
       "Gender                     object\n",
       "year                        int64\n",
       "ConvertedComp             float64\n",
       "Ethnicity                  object\n",
       "UndergradMajor             object\n",
       "dtype: object"
      ]
     },
     "execution_count": 276,
     "metadata": {},
     "output_type": "execute_result"
    }
   ],
   "source": [
    "df.dtypes"
   ]
  },
  {
   "cell_type": "markdown",
   "metadata": {},
   "source": [
    "### Education Level\n",
    "> We can look at the changes of EdLevel through the years.\n",
    "\n"
   ]
  },
  {
   "cell_type": "code",
   "execution_count": 277,
   "metadata": {},
   "outputs": [
    {
     "data": {
      "text/plain": [
       "Bachelor's degree                                                    120783\n",
       "Some college/university study without earning a bachelor's degree     24853\n",
       "Secondary school                                                      13501\n",
       "Master's degree                                                       11141\n",
       "Associate degree                                                       4476\n",
       "Other doctoral degree                                                  4009\n",
       "Professional degree                                                    2565\n",
       "Primary/elementary school                                              1904\n",
       "Doctoral degree                                                        1308\n",
       "I prefer not to answer                                                 1109\n",
       "I never completed any formal education                                  983\n",
       "Name: EdLevel, dtype: int64"
      ]
     },
     "execution_count": 277,
     "metadata": {},
     "output_type": "execute_result"
    }
   ],
   "source": [
    "#value counts for the educational levels\n",
    "\n",
    "df['EdLevel'].value_counts()"
   ]
  },
  {
   "cell_type": "code",
   "execution_count": 278,
   "metadata": {
    "scrolled": false
   },
   "outputs": [],
   "source": [
    "df.loc[df['EdLevel'].str.contains(\"without\"), 'EdLevel'] = \"Study without earning a degree\"\n",
    "\n",
    "#reduced data set \n",
    "df_ed=df[df.groupby('EdLevel')['EdLevel'].transform('size') > 2000]\n"
   ]
  },
  {
   "cell_type": "code",
   "execution_count": 279,
   "metadata": {
    "scrolled": true
   },
   "outputs": [
    {
     "data": {
      "image/png": "[encoded data removed]",
      "text/plain": [
       "<Figure size 1008x576 with 1 Axes>"
      ]
     },
     "metadata": {
      "needs_background": "light"
     },
     "output_type": "display_data"
    }
   ],
   "source": [
    "#plot EdLevel through years\n",
    "fig, ax = plt.subplots()\n",
    "fig.set_size_inches(14, 8)\n",
    "sns.set_palette('Accent')\n",
    "sns.countplot(x=\"year\", hue=\"EdLevel\",data=df_ed)\n",
    "plt.title('Education Level across years');"
   ]
  },
  {
   "cell_type": "markdown",
   "metadata": {},
   "source": [
    "> THe majority are at Undergradute level."
   ]
  },
  {
   "cell_type": "markdown",
   "metadata": {},
   "source": [
    "### Gender\n"
   ]
  },
  {
   "cell_type": "code",
   "execution_count": 280,
   "metadata": {},
   "outputs": [
    {
     "data": {
      "text/plain": [
       "47"
      ]
     },
     "execution_count": 280,
     "metadata": {},
     "output_type": "execute_result"
    }
   ],
   "source": [
    "df['Gender'].nunique()"
   ]
  },
  {
   "cell_type": "code",
   "execution_count": 281,
   "metadata": {},
   "outputs": [
    {
     "data": {
      "text/plain": [
       "Man                                                  77418\n",
       "Male                                                 73355\n",
       "Woman                                                 6073\n",
       "Female                                                5559\n",
       "Non-binary, genderqueer, or gender non-conforming      743\n",
       "Other                                                  225\n",
       "Transgender                                            181\n",
       "Gender non-conforming                                  164\n",
       "Name: Gender, dtype: int64"
      ]
     },
     "execution_count": 281,
     "metadata": {},
     "output_type": "execute_result"
    }
   ],
   "source": [
    "df['Gender'] =df['Gender'].str.split(';').str[0]\n",
    "df['Gender'].value_counts()"
   ]
  },
  {
   "cell_type": "code",
   "execution_count": 282,
   "metadata": {
    "scrolled": true
   },
   "outputs": [
    {
     "data": {
      "text/plain": [
       "Male                                                 150773\n",
       "Female                                                11632\n",
       "Non-binary, genderqueer, or gender non-conforming       743\n",
       "Other                                                   225\n",
       "Transgender                                             181\n",
       "Gender non-conforming                                   164\n",
       "Name: Gender, dtype: int64"
      ]
     },
     "execution_count": 282,
     "metadata": {},
     "output_type": "execute_result"
    }
   ],
   "source": [
    "#Similarly,many repeated phrase that can be reduced and renamed into Male, Female,Non-binary, and Transgender.\n",
    "df=df.dropna(subset=['Gender'])\n",
    "df.loc[df['Gender'].str.contains(\"Woman\"), 'Gender'] = 'Female'\n",
    "df.loc[df['Gender'].str.contains(\"Man\"), 'Gender'] = 'Male'\n",
    "df['Gender'].value_counts()"
   ]
  },
  {
   "cell_type": "code",
   "execution_count": 283,
   "metadata": {
    "scrolled": false
   },
   "outputs": [
    {
     "data": {
      "image/png": "[encoded data removed]",
      "text/plain": [
       "<Figure size 864x576 with 1 Axes>"
      ]
     },
     "metadata": {
      "needs_background": "light"
     },
     "output_type": "display_data"
    }
   ],
   "source": [
    "#plot\n",
    "\n",
    "fig, ax = plt.subplots()\n",
    "fig.set_size_inches(12, 8)\n",
    "sns.set_palette('Accent')\n",
    "sns.countplot(x=\"year\", hue=\"Gender\",data=df)\n",
    "plt.title('The gender across years');"
   ]
  },
  {
   "cell_type": "markdown",
   "metadata": {},
   "source": [
    "> The participents are overwhelmingly male."
   ]
  },
  {
   "cell_type": "markdown",
   "metadata": {},
   "source": [
    "#### Hobbyist"
   ]
  },
  {
   "cell_type": "code",
   "execution_count": 284,
   "metadata": {},
   "outputs": [
    {
     "data": {
      "text/plain": [
       "array(['No', 'Yes'], dtype=object)"
      ]
     },
     "execution_count": 284,
     "metadata": {},
     "output_type": "execute_result"
    }
   ],
   "source": [
    "df['Hobbyist'].unique()"
   ]
  },
  {
   "cell_type": "code",
   "execution_count": 285,
   "metadata": {
    "scrolled": true
   },
   "outputs": [
    {
     "data": {
      "text/plain": [
       "Yes    121218\n",
       "No      42500\n",
       "Name: Hobbyist, dtype: int64"
      ]
     },
     "execution_count": 285,
     "metadata": {},
     "output_type": "execute_result"
    }
   ],
   "source": [
    "df['Hobbyist'].value_counts()"
   ]
  },
  {
   "cell_type": "code",
   "execution_count": 286,
   "metadata": {
    "scrolled": true
   },
   "outputs": [
    {
     "data": {
      "image/png": "[encoded data removed]",
      "text/plain": [
       "<Figure size 864x576 with 1 Axes>"
      ]
     },
     "metadata": {
      "needs_background": "light"
     },
     "output_type": "display_data"
    }
   ],
   "source": [
    "#plot\n",
    "fig, ax = plt.subplots()\n",
    "fig.set_size_inches(12, 8)\n",
    "sns.set_palette('Accent')\n",
    "sns.countplot(x=\"year\", hue=\"Hobbyist\",data=df)\n",
    "plt.title('Coding as hoppy across years');"
   ]
  },
  {
   "cell_type": "markdown",
   "metadata": {},
   "source": [
    "#### Employment"
   ]
  },
  {
   "cell_type": "code",
   "execution_count": 287,
   "metadata": {},
   "outputs": [
    {
     "data": {
      "text/plain": [
       "array(['Not employed, and not looking for work', 'Employed part-time',\n",
       "       'Employed full-time',\n",
       "       'Independent contractor, freelancer, or self-employed',\n",
       "       'Not employed, but looking for work', 'I prefer not to say',\n",
       "       'Retired', nan], dtype=object)"
      ]
     },
     "execution_count": 287,
     "metadata": {},
     "output_type": "execute_result"
    }
   ],
   "source": [
    "df['Employment'].unique()"
   ]
  },
  {
   "cell_type": "code",
   "execution_count": 288,
   "metadata": {
    "scrolled": true
   },
   "outputs": [
    {
     "data": {
      "text/plain": [
       "Employed full-time                                      135851\n",
       "Independent contractor, freelancer, or self-employed     14726\n",
       "Employed part-time                                        7124\n",
       "Not employed, but looking for work                        2933\n",
       "Not employed, and not looking for work                    2264\n",
       "I prefer not to say                                        408\n",
       "Retired                                                    135\n",
       "Name: Employment, dtype: int64"
      ]
     },
     "execution_count": 288,
     "metadata": {},
     "output_type": "execute_result"
    }
   ],
   "source": [
    "df['Employment'].value_counts()"
   ]
  },
  {
   "cell_type": "markdown",
   "metadata": {},
   "source": [
    "#### Undergrad Major"
   ]
  },
  {
   "cell_type": "code",
   "execution_count": 289,
   "metadata": {},
   "outputs": [],
   "source": [
    "df=df.dropna(subset=['UndergradMajor'])\n",
    "\n",
    "#update the values of undergrad major\n",
    "\n",
    "df.loc[df['UndergradMajor'].str.contains(\"Humanities\"), 'UndergradMajor'] = 'Humanities and social discipline'\n",
    "df.loc[df['UndergradMajor'].str.contains(\"humanities\"), 'UndergradMajor'] = 'Humanities and social discipline'\n",
    "\n",
    "df.loc[df['UndergradMajor'].str.contains(\"business\"), 'UndergradMajor'] = 'Business discipline'\n",
    "df.loc[df['UndergradMajor'].str.contains(\"Social\"), 'UndergradMajor'] = 'Humanities and social discipline'\n",
    "df.loc[df['UndergradMajor'].str.contains(\"social\"), 'UndergradMajor'] = 'Humanities and social discipline'\n",
    "\n",
    "df.loc[df['UndergradMajor'].str.contains(\"health\"), 'UndergradMajor'] = 'Health science'\n",
    "df.loc[df['UndergradMajor'].str.contains('Mathematics' ), 'UndergradMajor'] = 'STEM'\n",
    "df.loc[df['UndergradMajor'].str.contains('technology'), 'UndergradMajor'] = 'STEM'\n",
    "df.loc[df['UndergradMajor'].str.contains('natural' ), 'UndergradMajor'] = 'STEM'\n",
    "df.loc[df['UndergradMajor'].str.contains('engineering' ), 'UndergradMajor'] = 'STEM'\n",
    "df.loc[df['UndergradMajor'].str.contains('development'), 'UndergradMajor'] = 'STEM'\n",
    "df.loc[df['UndergradMajor'].str.contains('systems'), 'UndergradMajor'] = 'STEM'\n",
    "df.loc[df['UndergradMajor'].str.contains('Computer'), 'UndergradMajor'] = 'STEM'\n",
    "df.loc[df['UndergradMajor'].str.contains('information'), 'UndergradMajor'] = 'STEM'\n",
    "df.loc[df['UndergradMajor'].str.contains('web'), 'UndergradMajor'] = 'STEM'\n",
    "df.loc[df['UndergradMajor'].str.contains('arts'), 'UndergradMajor'] = 'Fine arts or performing arts'\n",
    "df.loc[df['UndergradMajor'].str.contains('Psychology'), 'UndergradMajor'] = 'Health science'\n",
    "df.loc[df['UndergradMajor'].str.contains('Another engineering discipline'), 'UndergradMajor'] = 'Another engineering discipline'\n"
   ]
  },
  {
   "cell_type": "code",
   "execution_count": 290,
   "metadata": {
    "scrolled": true
   },
   "outputs": [
    {
     "data": {
      "text/plain": [
       "STEM                                132655\n",
       "Humanities and social discipline      6102\n",
       "Business discipline                   3451\n",
       "Fine arts or performing arts          2428\n",
       "I never declared a major              1437\n",
       "Something else                         761\n",
       "Health science                         619\n",
       "Name: UndergradMajor, dtype: int64"
      ]
     },
     "execution_count": 290,
     "metadata": {},
     "output_type": "execute_result"
    }
   ],
   "source": [
    "#test\n",
    "UndergradMajor= df['UndergradMajor'].value_counts()\n",
    "UndergradMajor"
   ]
  },
  {
   "cell_type": "code",
   "execution_count": 291,
   "metadata": {},
   "outputs": [
    {
     "data": {
      "image/png": "[encoded data removed]",
      "text/plain": [
       "<Figure size 864x576 with 1 Axes>"
      ]
     },
     "metadata": {
      "needs_background": "light"
     },
     "output_type": "display_data"
    }
   ],
   "source": [
    "#plot\n",
    "\n",
    "fig, ax = plt.subplots()\n",
    "fig.set_size_inches(12, 8)\n",
    "sns.set_palette('Accent')\n",
    "sns.countplot(x=\"year\", hue=\"UndergradMajor\",data=df)\n",
    "plt.title('The Eduction Level across years');"
   ]
  },
  {
   "cell_type": "markdown",
   "metadata": {},
   "source": [
    "#### Years of Coding as Professional  and Years of Coding"
   ]
  },
  {
   "cell_type": "code",
   "execution_count": 292,
   "metadata": {
    "scrolled": false
   },
   "outputs": [
    {
     "data": {
      "image/png": "[encoded data removed]",
      "text/plain": [
       "<Figure size 864x432 with 2 Axes>"
      ]
     },
     "metadata": {
      "needs_background": "light"
     },
     "output_type": "display_data"
    }
   ],
   "source": [
    "#conv to numeric valuse\n",
    "df['YearsCodePro']= pd.to_numeric(df[\"YearsCodePro\"], errors='coerce')\n",
    "df['YearsCode']= pd.to_numeric(df[\"YearsCode\"], errors='coerce')\n",
    "#plot\n",
    "plt.figure(figsize = [12, 6])\n",
    "plt.subplot(1, 2, 1)\n",
    "df['YearsCodePro'].hist()\n",
    "plt.title('Distribution of Years of coding as Professional')\n",
    "plt.ylabel('Counts')\n",
    "#plot\n",
    "plt.subplot(1, 2, 2)\n",
    "df['YearsCode'].hist()\n",
    "plt.title('Distribution of Years of coding')\n",
    "plt.ylabel('Counts');"
   ]
  },
  {
   "cell_type": "markdown",
   "metadata": {},
   "source": [
    "###  YearsCodePro versus YearsCode over years "
   ]
  },
  {
   "cell_type": "code",
   "execution_count": 293,
   "metadata": {},
   "outputs": [
    {
     "data": {
      "image/png": "[encoded data removed]",
      "text/plain": [
       "<Figure size 1152x576 with 2 Axes>"
      ]
     },
     "metadata": {
      "needs_background": "light"
     },
     "output_type": "display_data"
    }
   ],
   "source": [
    "#creating two plots to show the distribution of YearsCode vs YearsCodePro\n",
    "\n",
    "# left plot: Years coding\n",
    "plt.figure(figsize = [16, 8])\n",
    "plt.subplot(1, 2, 1)\n",
    "sns.boxplot(x=\"year\", y=\"YearsCode\", data=df,showfliers = False)\n",
    "plt.xlabel(' Year ')\n",
    "plt.ylabel(' Years of coding')\n",
    "plt.title('The distribution of YearsCode')\n",
    "\n",
    "# Right plot: Professional coding\n",
    "plt.subplot(1, 2, 2)\n",
    "sns.boxplot(x=\"year\", y=\"YearsCodePro\", data=df,showfliers = False)\n",
    "plt.xlabel(' Year ')\n",
    "plt.ylabel(' Years of professional coding')\n",
    "plt.title('The distribution of YearsCodePro');\n"
   ]
  },
  {
   "cell_type": "markdown",
   "metadata": {},
   "source": [
    "#### Salary"
   ]
  },
  {
   "cell_type": "code",
   "execution_count": 294,
   "metadata": {
    "scrolled": false
   },
   "outputs": [
    {
     "data": {
      "image/png": "[encoded data removed]",
      "text/plain": [
       "<Figure size 720x432 with 1 Axes>"
      ]
     },
     "metadata": {
      "needs_background": "light"
     },
     "output_type": "display_data"
    }
   ],
   "source": [
    "plt.figure(figsize = [10, 6])\n",
    "df['ConvertedComp'].hist()\n",
    "plt.ylabel('Salary')\n",
    "plt.title('Distribution of salary');"
   ]
  },
  {
   "cell_type": "code",
   "execution_count": 295,
   "metadata": {
    "scrolled": false
   },
   "outputs": [
    {
     "data": {
      "text/plain": [
       "Text(0.5, 1.0, 'The distribution of Salary')"
      ]
     },
     "execution_count": 295,
     "metadata": {},
     "output_type": "execute_result"
    },
    {
     "data": {
      "image/png": "[encoded data removed]",
      "text/plain": [
       "<Figure size 864x576 with 1 Axes>"
      ]
     },
     "metadata": {
      "needs_background": "light"
     },
     "output_type": "display_data"
    }
   ],
   "source": [
    "#creating plot to show the distribution salary over years\n",
    "\n",
    "fig, ax = plt.subplots()\n",
    "fig.set_size_inches(12, 8)\n",
    "sns.boxplot(x=\"year\", y=\"ConvertedComp\", data=df,showfliers = False)\n",
    "plt.xlabel(' Year ')\n",
    "plt.ylabel(' Salary')\n",
    "plt.title('The distribution of Salary')\n",
    "\n"
   ]
  },
  {
   "cell_type": "code",
   "execution_count": 296,
   "metadata": {},
   "outputs": [
    {
     "data": {
      "image/png": "[encoded data removed]",
      "text/plain": [
       "<Figure size 720x432 with 1 Axes>"
      ]
     },
     "metadata": {
      "needs_background": "light"
     },
     "output_type": "display_data"
    }
   ],
   "source": [
    "# mean ConvertedComp each year\n",
    "#making copy\n",
    "df2 = df.copy()\n",
    "#dropping all nan\n",
    "df2.dropna(how='any',inplace=True)\n",
    "mean_comp = df2.groupby(['year']).mean().sort_values(['ConvertedComp'],ascending=False)\n",
    "mean_comp=mean_comp.reset_index()\n",
    "#plot \n",
    "plt.figure(figsize = [10, 6])\n",
    "plt.bar(mean_comp['year'],mean_comp['ConvertedComp'])\n",
    "plt.xticks(mean_comp['year'], ('2017', '2018', '2019', '2020'))\n",
    "plt.title('The mean of salary throught four years ');"
   ]
  },
  {
   "cell_type": "markdown",
   "metadata": {},
   "source": [
    "#### Country"
   ]
  },
  {
   "cell_type": "code",
   "execution_count": 297,
   "metadata": {
    "scrolled": true
   },
   "outputs": [
    {
     "data": {
      "text/plain": [
       "United States     38755\n",
       "United Kingdom    11778\n",
       "India             11191\n",
       "Germany            9518\n",
       "Canada             6276\n",
       "France             4938\n",
       "Brazil             3705\n",
       "Poland             3489\n",
       "Australia          3325\n",
       "Spain              3127\n",
       "Name: Country, dtype: int64"
      ]
     },
     "execution_count": 297,
     "metadata": {},
     "output_type": "execute_result"
    }
   ],
   "source": [
    "#most country participated in survay \n",
    "Countries = df['Country'].value_counts().head(10)\n",
    "Countries"
   ]
  },
  {
   "cell_type": "code",
   "execution_count": 298,
   "metadata": {
    "scrolled": false
   },
   "outputs": [
    {
     "data": {
      "image/png": "[encoded data removed]",
      "text/plain": [
       "<Figure size 864x576 with 1 Axes>"
      ]
     },
     "metadata": {
      "needs_background": "light"
     },
     "output_type": "display_data"
    }
   ],
   "source": [
    "#Top 10 most participated countries in survey \n",
    "#plot \n",
    "base_color = sns.color_palette()[0]\n",
    "fig, ax = plt.subplots()\n",
    "fig.set_size_inches(12, 8)\n",
    "sns.barplot(Countries, Countries.index,color = base_color)\n",
    "plt.title('Country')\n",
    "plt.xlabel('Counts')\n",
    "plt.ylabel('-');"
   ]
  },
  {
   "cell_type": "markdown",
   "metadata": {},
   "source": [
    "#### Ethnicity"
   ]
  },
  {
   "cell_type": "code",
   "execution_count": 299,
   "metadata": {
    "scrolled": true
   },
   "outputs": [
    {
     "data": {
      "image/png": "[encoded data removed]",
      "text/plain": [
       "<Figure size 864x576 with 1 Axes>"
      ]
     },
     "metadata": {
      "needs_background": "light"
     },
     "output_type": "display_data"
    }
   ],
   "source": [
    "#Top 10 \n",
    "Ethnic=df['Ethnicity'].value_counts().head(5)\n",
    "\n",
    "#plot \n",
    "base_color = sns.color_palette()[0]\n",
    "fig, ax = plt.subplots()\n",
    "fig.set_size_inches(12, 8)\n",
    "sns.barplot(Ethnic, Ethnic.index,color = base_color)\n",
    "plt.title('Top 10 Ethnicity on Stack overflow')\n",
    "plt.xlabel('Counts')\n",
    "plt.ylabel('-');"
   ]
  },
  {
   "cell_type": "markdown",
   "metadata": {},
   "source": [
    "# Analysing"
   ]
  },
  {
   "cell_type": "markdown",
   "metadata": {},
   "source": [
    "# How individual's job satisfaction changed over the years?\n"
   ]
  },
  {
   "cell_type": "markdown",
   "metadata": {},
   "source": [
    "#### Job Satisfaction"
   ]
  },
  {
   "cell_type": "code",
   "execution_count": 300,
   "metadata": {},
   "outputs": [
    {
     "data": {
      "text/plain": [
       "array(['Neither satisfied nor dissatisfied', 'Very satisfied',\n",
       "       'Slightly dissatisfied', 'Slightly satisfied', 'Very dissatisfied',\n",
       "       nan], dtype=object)"
      ]
     },
     "execution_count": 300,
     "metadata": {},
     "output_type": "execute_result"
    }
   ],
   "source": [
    "df['JobSat'].unique()"
   ]
  },
  {
   "cell_type": "code",
   "execution_count": 301,
   "metadata": {
    "scrolled": true
   },
   "outputs": [
    {
     "data": {
      "text/plain": [
       "Very satisfied                        67723\n",
       "Slightly satisfied                    34751\n",
       "Slightly dissatisfied                 17983\n",
       "Neither satisfied nor dissatisfied    16213\n",
       "Very dissatisfied                     10712\n",
       "Name: JobSat, dtype: int64"
      ]
     },
     "execution_count": 301,
     "metadata": {},
     "output_type": "execute_result"
    }
   ],
   "source": [
    "df['JobSat'].value_counts()"
   ]
  },
  {
   "cell_type": "code",
   "execution_count": 302,
   "metadata": {
    "scrolled": true
   },
   "outputs": [
    {
     "data": {
      "image/png": "[encoded data removed]",
      "text/plain": [
       "<Figure size 864x576 with 1 Axes>"
      ]
     },
     "metadata": {
      "needs_background": "light"
     },
     "output_type": "display_data"
    }
   ],
   "source": [
    "#plot\n",
    "\n",
    "fig, ax = plt.subplots()\n",
    "fig.set_size_inches(12, 8)\n",
    "sns.set_palette('Accent')\n",
    "sns.countplot(x=\"year\", hue=\"JobSat\",data=df)\n",
    "plt.title('The Job Satisfaction across years');\n"
   ]
  },
  {
   "cell_type": "markdown",
   "metadata": {},
   "source": [
    "# What are the salary and job Satisfaction differences in Arab World Countries?\n"
   ]
  },
  {
   "cell_type": "markdown",
   "metadata": {},
   "source": [
    "### The Arab World\n",
    "\n",
    "There are around 25 Arab speaking countries that claim Arabic as an official or co-official language including Saudi Arabia, Chad, Algeria, Comoros, Eritrea, Djibouti, Egypt, Palestine, Lebanon, Iraq, Jordan, Lebanon, Kuwait, Mauritania, Morocco, Oman, Qatar, Somalia, Sudan, Syria, Tanzania, Bahrain, Tunisia, United Arab Emirates, and Yemen."
   ]
  },
  {
   "cell_type": "code",
   "execution_count": 303,
   "metadata": {},
   "outputs": [],
   "source": [
    "#creating list of arab countries\n",
    "Arab = ( 'Saudi Arabia', 'Chad', 'Algeria', 'Comoros', 'Eritrea', 'Djibouti', 'Egypt', 'Palestine', 'Lebanon', \n",
    "        'Iraq', 'Jordan', 'Lebanon', 'Kuwait', 'Mauritania', 'Morocco', 'Oman', 'Qatar', 'Somalia', 'Sudan', 'Syria', \n",
    "        'Tanzania', 'Bahrain', 'Tunisia', \n",
    "        'Yemen')"
   ]
  },
  {
   "cell_type": "code",
   "execution_count": 304,
   "metadata": {},
   "outputs": [
    {
     "data": {
      "text/plain": [
       "(1311, 20)"
      ]
     },
     "execution_count": 304,
     "metadata": {},
     "output_type": "execute_result"
    }
   ],
   "source": [
    "#filttering\n",
    "Arab_world=[ x for x in df['Country'] if x in Arab]\n",
    "#create df\n",
    "df_arab = df[df['Country'].isin(Arab_world)]\n",
    "df_arab.shape"
   ]
  },
  {
   "cell_type": "code",
   "execution_count": 305,
   "metadata": {},
   "outputs": [
    {
     "data": {
      "text/html": [
       "<div>\n",
       "<style scoped>\n",
       "    .dataframe tbody tr th:only-of-type {\n",
       "        vertical-align: middle;\n",
       "    }\n",
       "\n",
       "    .dataframe tbody tr th {\n",
       "        vertical-align: top;\n",
       "    }\n",
       "\n",
       "    .dataframe thead th {\n",
       "        text-align: right;\n",
       "    }\n",
       "</style>\n",
       "<table border=\"1\" class=\"dataframe\">\n",
       "  <thead>\n",
       "    <tr style=\"text-align: right;\">\n",
       "      <th></th>\n",
       "      <th>Respondent</th>\n",
       "      <th>YearsCode</th>\n",
       "      <th>YearsCodePro</th>\n",
       "      <th>year</th>\n",
       "      <th>ConvertedComp</th>\n",
       "    </tr>\n",
       "  </thead>\n",
       "  <tbody>\n",
       "    <tr>\n",
       "      <th>count</th>\n",
       "      <td>1311.000000</td>\n",
       "      <td>1302.000000</td>\n",
       "      <td>1182.000000</td>\n",
       "      <td>1311.000000</td>\n",
       "      <td>1082.000000</td>\n",
       "    </tr>\n",
       "    <tr>\n",
       "      <th>mean</th>\n",
       "      <td>40819.806255</td>\n",
       "      <td>7.989247</td>\n",
       "      <td>4.700508</td>\n",
       "      <td>2018.497330</td>\n",
       "      <td>25409.712811</td>\n",
       "    </tr>\n",
       "    <tr>\n",
       "      <th>std</th>\n",
       "      <td>25514.782580</td>\n",
       "      <td>5.432406</td>\n",
       "      <td>4.423781</td>\n",
       "      <td>1.008264</td>\n",
       "      <td>76160.948456</td>\n",
       "    </tr>\n",
       "    <tr>\n",
       "      <th>min</th>\n",
       "      <td>245.000000</td>\n",
       "      <td>0.000000</td>\n",
       "      <td>0.000000</td>\n",
       "      <td>2017.000000</td>\n",
       "      <td>0.000000</td>\n",
       "    </tr>\n",
       "    <tr>\n",
       "      <th>25%</th>\n",
       "      <td>19890.500000</td>\n",
       "      <td>4.000000</td>\n",
       "      <td>2.000000</td>\n",
       "      <td>2018.000000</td>\n",
       "      <td>3396.000000</td>\n",
       "    </tr>\n",
       "    <tr>\n",
       "      <th>50%</th>\n",
       "      <td>37355.000000</td>\n",
       "      <td>7.000000</td>\n",
       "      <td>3.000000</td>\n",
       "      <td>2019.000000</td>\n",
       "      <td>9600.000000</td>\n",
       "    </tr>\n",
       "    <tr>\n",
       "      <th>75%</th>\n",
       "      <td>59960.000000</td>\n",
       "      <td>10.000000</td>\n",
       "      <td>6.000000</td>\n",
       "      <td>2019.000000</td>\n",
       "      <td>23000.000000</td>\n",
       "    </tr>\n",
       "    <tr>\n",
       "      <th>max</th>\n",
       "      <td>101566.000000</td>\n",
       "      <td>37.000000</td>\n",
       "      <td>30.000000</td>\n",
       "      <td>2020.000000</td>\n",
       "      <td>1000000.000000</td>\n",
       "    </tr>\n",
       "  </tbody>\n",
       "</table>\n",
       "</div>"
      ],
      "text/plain": [
       "          Respondent    YearsCode  YearsCodePro         year   ConvertedComp\n",
       "count    1311.000000  1302.000000   1182.000000  1311.000000     1082.000000\n",
       "mean    40819.806255     7.989247      4.700508  2018.497330    25409.712811\n",
       "std     25514.782580     5.432406      4.423781     1.008264    76160.948456\n",
       "min       245.000000     0.000000      0.000000  2017.000000        0.000000\n",
       "25%     19890.500000     4.000000      2.000000  2018.000000     3396.000000\n",
       "50%     37355.000000     7.000000      3.000000  2019.000000     9600.000000\n",
       "75%     59960.000000    10.000000      6.000000  2019.000000    23000.000000\n",
       "max    101566.000000    37.000000     30.000000  2020.000000  1000000.000000"
      ]
     },
     "execution_count": 305,
     "metadata": {},
     "output_type": "execute_result"
    }
   ],
   "source": [
    "df_arab.describe()"
   ]
  },
  {
   "cell_type": "code",
   "execution_count": 306,
   "metadata": {
    "scrolled": false
   },
   "outputs": [
    {
     "data": {
      "image/png": "[encoded data removed]",
      "text/plain": [
       "<Figure size 864x576 with 1 Axes>"
      ]
     },
     "metadata": {
      "needs_background": "light"
     },
     "output_type": "display_data"
    }
   ],
   "source": [
    "#ranking of number of resp for each countries\n",
    "Countries_arab=df_arab['Country'].value_counts().head(10)\n",
    "#plot \n",
    "base_color = sns.color_palette()[0]\n",
    "fig, ax = plt.subplots()\n",
    "fig.set_size_inches(12, 8)\n",
    "sns.barplot(Countries_arab, Countries_arab.index,color = base_color)\n",
    "plt.title('Number of Respondent by Country')\n",
    "plt.xlabel('Counts')\n",
    "plt.ylabel('-');"
   ]
  },
  {
   "cell_type": "code",
   "execution_count": 307,
   "metadata": {
    "scrolled": true
   },
   "outputs": [
    {
     "data": {
      "text/plain": [
       "STEM                                1247\n",
       "Business discipline                   28\n",
       "Humanities and social discipline      13\n",
       "Health science                         7\n",
       "Fine arts or performing arts           6\n",
       "Something else                         6\n",
       "I never declared a major               4\n",
       "Name: UndergradMajor, dtype: int64"
      ]
     },
     "execution_count": 307,
     "metadata": {},
     "output_type": "execute_result"
    }
   ],
   "source": [
    "#count of undergrad majors\n",
    "df_arab['UndergradMajor'].value_counts()"
   ]
  },
  {
   "cell_type": "markdown",
   "metadata": {},
   "source": [
    "#### Average Salary in Arab World"
   ]
  },
  {
   "cell_type": "code",
   "execution_count": 308,
   "metadata": {
    "scrolled": true
   },
   "outputs": [
    {
     "data": {
      "image/png": "[encoded data removed]",
      "text/plain": [
       "<Figure size 864x576 with 1 Axes>"
      ]
     },
     "metadata": {
      "needs_background": "light"
     },
     "output_type": "display_data"
    }
   ],
   "source": [
    "#distribution of salary \n",
    "fig, ax = plt.subplots()\n",
    "fig.set_size_inches(12, 8)\n",
    "sns.boxplot(x=\"year\", y=\"ConvertedComp\", data=df_arab,showfliers = False)\n",
    "plt.xlabel(' Year ')\n",
    "plt.ylabel(' Salary')\n",
    "plt.title('The distribution of salary in Arab World');"
   ]
  },
  {
   "cell_type": "markdown",
   "metadata": {},
   "source": [
    "#### Job Satisfaction in Arab world"
   ]
  },
  {
   "cell_type": "code",
   "execution_count": 309,
   "metadata": {
    "scrolled": false
   },
   "outputs": [
    {
     "data": {
      "image/png": "[encoded data removed]",
      "text/plain": [
       "<Figure size 864x576 with 1 Axes>"
      ]
     },
     "metadata": {
      "needs_background": "light"
     },
     "output_type": "display_data"
    }
   ],
   "source": [
    "#plot\n",
    "\n",
    "fig, ax = plt.subplots()\n",
    "fig.set_size_inches(12, 8)\n",
    "sns.set_palette('Accent')\n",
    "sns.countplot(x=\"year\", hue=\"JobSat\",\n",
    "\n",
    "                data=df_arab)\n",
    "plt.title('The Job Satisfaction across years for The Arab World');"
   ]
  },
  {
   "cell_type": "markdown",
   "metadata": {},
   "source": [
    "## What are the changes of salaries and job satisfaction for data scientist?"
   ]
  },
  {
   "cell_type": "code",
   "execution_count": 310,
   "metadata": {
    "scrolled": true
   },
   "outputs": [
    {
     "data": {
      "text/html": [
       "<div>\n",
       "<style scoped>\n",
       "    .dataframe tbody tr th:only-of-type {\n",
       "        vertical-align: middle;\n",
       "    }\n",
       "\n",
       "    .dataframe tbody tr th {\n",
       "        vertical-align: top;\n",
       "    }\n",
       "\n",
       "    .dataframe thead th {\n",
       "        text-align: right;\n",
       "    }\n",
       "</style>\n",
       "<table border=\"1\" class=\"dataframe\">\n",
       "  <thead>\n",
       "    <tr style=\"text-align: right;\">\n",
       "      <th></th>\n",
       "      <th>Respondent</th>\n",
       "      <th>Hobbyist</th>\n",
       "      <th>Country</th>\n",
       "      <th>Employment</th>\n",
       "      <th>EdLevel</th>\n",
       "      <th>YearsCode</th>\n",
       "      <th>YearsCodePro</th>\n",
       "      <th>DevType</th>\n",
       "      <th>JobSat</th>\n",
       "      <th>LanguageWorkedWith</th>\n",
       "      <th>LanguageDesireNextYear</th>\n",
       "      <th>DatabaseWorkedWith</th>\n",
       "      <th>DatabaseDesireNextYear</th>\n",
       "      <th>PlatformWorkedWith</th>\n",
       "      <th>PlatformDesireNextYear</th>\n",
       "      <th>Gender</th>\n",
       "      <th>year</th>\n",
       "      <th>ConvertedComp</th>\n",
       "      <th>Ethnicity</th>\n",
       "      <th>UndergradMajor</th>\n",
       "    </tr>\n",
       "  </thead>\n",
       "  <tbody>\n",
       "    <tr>\n",
       "      <th>19</th>\n",
       "      <td>20</td>\n",
       "      <td>Yes</td>\n",
       "      <td>Greece</td>\n",
       "      <td>Employed full-time</td>\n",
       "      <td>Doctoral degree</td>\n",
       "      <td>12.0</td>\n",
       "      <td>12.0</td>\n",
       "      <td>Data scientist; Other</td>\n",
       "      <td>Very satisfied</td>\n",
       "      <td>Perl; Python</td>\n",
       "      <td>Perl; Python</td>\n",
       "      <td>MySQL</td>\n",
       "      <td>PostgreSQL</td>\n",
       "      <td>NaN</td>\n",
       "      <td>NaN</td>\n",
       "      <td>Male</td>\n",
       "      <td>2017</td>\n",
       "      <td>NaN</td>\n",
       "      <td>I prefer not to say</td>\n",
       "      <td>STEM</td>\n",
       "    </tr>\n",
       "    <tr>\n",
       "      <th>82</th>\n",
       "      <td>83</td>\n",
       "      <td>Yes</td>\n",
       "      <td>United States</td>\n",
       "      <td>Employed full-time</td>\n",
       "      <td>Bachelor's degree</td>\n",
       "      <td>20.0</td>\n",
       "      <td>18.0</td>\n",
       "      <td>Web developer; Mobile developer; Data scientis...</td>\n",
       "      <td>Very satisfied</td>\n",
       "      <td>C++; C#; JavaScript; SQL</td>\n",
       "      <td>C++; C#; JavaScript; R</td>\n",
       "      <td>SQL Server</td>\n",
       "      <td>MongoDB; Redis</td>\n",
       "      <td>Windows Phone; Windows Desktop; Microsoft Azure</td>\n",
       "      <td>Android; iOS; Raspberry Pi; Amazon Web Service...</td>\n",
       "      <td>Male</td>\n",
       "      <td>2017</td>\n",
       "      <td>NaN</td>\n",
       "      <td>White or of European descent</td>\n",
       "      <td>Fine arts or performing arts</td>\n",
       "    </tr>\n",
       "    <tr>\n",
       "      <th>91</th>\n",
       "      <td>92</td>\n",
       "      <td>No</td>\n",
       "      <td>Germany</td>\n",
       "      <td>Not employed, and not looking for work</td>\n",
       "      <td>Master's degree</td>\n",
       "      <td>20.0</td>\n",
       "      <td>10.0</td>\n",
       "      <td>Machine learning specialist; Developer with a ...</td>\n",
       "      <td>Neither satisfied nor dissatisfied</td>\n",
       "      <td>CoffeeScript; Haskell; JavaScript; Python; SQL</td>\n",
       "      <td>Python</td>\n",
       "      <td>MongoDB; Redis; PostgreSQL</td>\n",
       "      <td>Redis; PostgreSQL</td>\n",
       "      <td>Windows Desktop; Linux Desktop; Amazon Web Ser...</td>\n",
       "      <td>Linux Desktop</td>\n",
       "      <td>Male</td>\n",
       "      <td>2017</td>\n",
       "      <td>NaN</td>\n",
       "      <td>White or of European descent</td>\n",
       "      <td>STEM</td>\n",
       "    </tr>\n",
       "    <tr>\n",
       "      <th>131</th>\n",
       "      <td>132</td>\n",
       "      <td>No</td>\n",
       "      <td>United States</td>\n",
       "      <td>Employed full-time</td>\n",
       "      <td>Bachelor's degree</td>\n",
       "      <td>18.0</td>\n",
       "      <td>8.0</td>\n",
       "      <td>Web developer; Developer with a statistics or ...</td>\n",
       "      <td>Very satisfied</td>\n",
       "      <td>C++</td>\n",
       "      <td>C++</td>\n",
       "      <td>NaN</td>\n",
       "      <td>NaN</td>\n",
       "      <td>NaN</td>\n",
       "      <td>NaN</td>\n",
       "      <td>Gender non-conforming</td>\n",
       "      <td>2017</td>\n",
       "      <td>NaN</td>\n",
       "      <td>White or of European descent</td>\n",
       "      <td>STEM</td>\n",
       "    </tr>\n",
       "    <tr>\n",
       "      <th>143</th>\n",
       "      <td>144</td>\n",
       "      <td>No</td>\n",
       "      <td>United Kingdom</td>\n",
       "      <td>Employed full-time</td>\n",
       "      <td>Bachelor's degree</td>\n",
       "      <td>12.0</td>\n",
       "      <td>1.0</td>\n",
       "      <td>Web developer; Graphics programming; Developer...</td>\n",
       "      <td>Slightly satisfied</td>\n",
       "      <td>C++; C#; F#; Haskell; Python; SQL</td>\n",
       "      <td>C; C++; C#; F#; Python; TypeScript</td>\n",
       "      <td>SQL Server</td>\n",
       "      <td>NaN</td>\n",
       "      <td>Windows Desktop; Arduino; Raspberry Pi</td>\n",
       "      <td>Windows Desktop; Linux Desktop; Raspberry Pi</td>\n",
       "      <td>Male</td>\n",
       "      <td>2017</td>\n",
       "      <td>43750.0</td>\n",
       "      <td>White or of European descent</td>\n",
       "      <td>STEM</td>\n",
       "    </tr>\n",
       "    <tr>\n",
       "      <th>...</th>\n",
       "      <td>...</td>\n",
       "      <td>...</td>\n",
       "      <td>...</td>\n",
       "      <td>...</td>\n",
       "      <td>...</td>\n",
       "      <td>...</td>\n",
       "      <td>...</td>\n",
       "      <td>...</td>\n",
       "      <td>...</td>\n",
       "      <td>...</td>\n",
       "      <td>...</td>\n",
       "      <td>...</td>\n",
       "      <td>...</td>\n",
       "      <td>...</td>\n",
       "      <td>...</td>\n",
       "      <td>...</td>\n",
       "      <td>...</td>\n",
       "      <td>...</td>\n",
       "      <td>...</td>\n",
       "      <td>...</td>\n",
       "    </tr>\n",
       "    <tr>\n",
       "      <th>61564</th>\n",
       "      <td>62812</td>\n",
       "      <td>Yes</td>\n",
       "      <td>United States</td>\n",
       "      <td>Employed full-time</td>\n",
       "      <td>Associate degree</td>\n",
       "      <td>30.0</td>\n",
       "      <td>20.0</td>\n",
       "      <td>Data or business analyst;Data scientist or mac...</td>\n",
       "      <td>Very satisfied</td>\n",
       "      <td>Bash/Shell/PowerShell;Go;HTML/CSS;JavaScript;P...</td>\n",
       "      <td>Bash/Shell/PowerShell;HTML/CSS;JavaScript;Perl...</td>\n",
       "      <td>Cassandra;MariaDB;Microsoft SQL Server;MongoDB...</td>\n",
       "      <td>Cassandra;Elasticsearch;MariaDB;Microsoft SQL ...</td>\n",
       "      <td>Android;AWS;Docker;Google Cloud Platform;IBM C...</td>\n",
       "      <td>Android;AWS;Docker;Google Cloud Platform;IBM C...</td>\n",
       "      <td>Male</td>\n",
       "      <td>2020</td>\n",
       "      <td>145000.0</td>\n",
       "      <td>White or of European descent</td>\n",
       "      <td>STEM</td>\n",
       "    </tr>\n",
       "    <tr>\n",
       "      <th>61586</th>\n",
       "      <td>62835</td>\n",
       "      <td>Yes</td>\n",
       "      <td>Russian Federation</td>\n",
       "      <td>Employed full-time</td>\n",
       "      <td>Bachelor's degree</td>\n",
       "      <td>8.0</td>\n",
       "      <td>3.0</td>\n",
       "      <td>Data scientist or machine learning specialist;...</td>\n",
       "      <td>Very satisfied</td>\n",
       "      <td>Bash/Shell/PowerShell;C;C#;C++;Go;Haskell;Kotl...</td>\n",
       "      <td>C#;Haskell;Rust;Scala;SQL</td>\n",
       "      <td>PostgreSQL;Redis</td>\n",
       "      <td>Cassandra;PostgreSQL;Redis</td>\n",
       "      <td>Docker;Kubernetes;Slack Apps and Integrations</td>\n",
       "      <td>Docker;Kubernetes</td>\n",
       "      <td>Male</td>\n",
       "      <td>2020</td>\n",
       "      <td>33972.0</td>\n",
       "      <td>White or of European descent</td>\n",
       "      <td>STEM</td>\n",
       "    </tr>\n",
       "    <tr>\n",
       "      <th>61588</th>\n",
       "      <td>62837</td>\n",
       "      <td>Yes</td>\n",
       "      <td>Germany</td>\n",
       "      <td>Employed full-time</td>\n",
       "      <td>Bachelor's degree</td>\n",
       "      <td>12.0</td>\n",
       "      <td>2.0</td>\n",
       "      <td>Data scientist or machine learning specialist;...</td>\n",
       "      <td>Very satisfied</td>\n",
       "      <td>C++;Python;Rust</td>\n",
       "      <td>Assembly;Haskell;Rust</td>\n",
       "      <td>NaN</td>\n",
       "      <td>NaN</td>\n",
       "      <td>AWS;Docker;Linux</td>\n",
       "      <td>AWS;Docker;Kubernetes;Linux</td>\n",
       "      <td>Male</td>\n",
       "      <td>2020</td>\n",
       "      <td>97284.0</td>\n",
       "      <td>White or of European descent</td>\n",
       "      <td>STEM</td>\n",
       "    </tr>\n",
       "    <tr>\n",
       "      <th>61617</th>\n",
       "      <td>62867</td>\n",
       "      <td>Yes</td>\n",
       "      <td>Panama</td>\n",
       "      <td>Employed full-time</td>\n",
       "      <td>Bachelor's degree</td>\n",
       "      <td>15.0</td>\n",
       "      <td>2.0</td>\n",
       "      <td>Data or business analyst;Data scientist or mac...</td>\n",
       "      <td>Very satisfied</td>\n",
       "      <td>JavaScript;Python;SQL</td>\n",
       "      <td>Python;R;Ruby</td>\n",
       "      <td>MariaDB;Microsoft SQL Server;MongoDB;SQLite</td>\n",
       "      <td>NaN</td>\n",
       "      <td>AWS;Google Cloud Platform;Windows</td>\n",
       "      <td>NaN</td>\n",
       "      <td>Male</td>\n",
       "      <td>2020</td>\n",
       "      <td>72000.0</td>\n",
       "      <td>Hispanic or Latino/a/x</td>\n",
       "      <td>STEM</td>\n",
       "    </tr>\n",
       "    <tr>\n",
       "      <th>61632</th>\n",
       "      <td>62882</td>\n",
       "      <td>Yes</td>\n",
       "      <td>United States</td>\n",
       "      <td>Employed full-time</td>\n",
       "      <td>Bachelor's degree</td>\n",
       "      <td>11.0</td>\n",
       "      <td>5.0</td>\n",
       "      <td>Data scientist or machine learning specialist;...</td>\n",
       "      <td>Very satisfied</td>\n",
       "      <td>Bash/Shell/PowerShell;C;C++;JavaScript;Python</td>\n",
       "      <td>JavaScript;Python;Scala;TypeScript</td>\n",
       "      <td>DynamoDB;Elasticsearch;MariaDB;MongoDB;MySQL;O...</td>\n",
       "      <td>Cassandra;PostgreSQL;Redis</td>\n",
       "      <td>Android;AWS;Docker;Heroku;IBM Cloud or Watson;...</td>\n",
       "      <td>Docker;Heroku;Kubernetes;MacOS;Microsoft Azure...</td>\n",
       "      <td>Male</td>\n",
       "      <td>2020</td>\n",
       "      <td>180000.0</td>\n",
       "      <td>South Asian</td>\n",
       "      <td>STEM</td>\n",
       "    </tr>\n",
       "  </tbody>\n",
       "</table>\n",
       "<p>11192 rows × 20 columns</p>\n",
       "</div>"
      ],
      "text/plain": [
       "       Respondent Hobbyist             Country  \\\n",
       "19             20      Yes              Greece   \n",
       "82             83      Yes       United States   \n",
       "91             92       No             Germany   \n",
       "131           132       No       United States   \n",
       "143           144       No      United Kingdom   \n",
       "...           ...      ...                 ...   \n",
       "61564       62812      Yes       United States   \n",
       "61586       62835      Yes  Russian Federation   \n",
       "61588       62837      Yes             Germany   \n",
       "61617       62867      Yes              Panama   \n",
       "61632       62882      Yes       United States   \n",
       "\n",
       "                                   Employment            EdLevel  YearsCode  \\\n",
       "19                         Employed full-time    Doctoral degree       12.0   \n",
       "82                         Employed full-time  Bachelor's degree       20.0   \n",
       "91     Not employed, and not looking for work    Master's degree       20.0   \n",
       "131                        Employed full-time  Bachelor's degree       18.0   \n",
       "143                        Employed full-time  Bachelor's degree       12.0   \n",
       "...                                       ...                ...        ...   \n",
       "61564                      Employed full-time   Associate degree       30.0   \n",
       "61586                      Employed full-time  Bachelor's degree        8.0   \n",
       "61588                      Employed full-time  Bachelor's degree       12.0   \n",
       "61617                      Employed full-time  Bachelor's degree       15.0   \n",
       "61632                      Employed full-time  Bachelor's degree       11.0   \n",
       "\n",
       "       YearsCodePro                                            DevType  \\\n",
       "19             12.0                              Data scientist; Other   \n",
       "82             18.0  Web developer; Mobile developer; Data scientis...   \n",
       "91             10.0  Machine learning specialist; Developer with a ...   \n",
       "131             8.0  Web developer; Developer with a statistics or ...   \n",
       "143             1.0  Web developer; Graphics programming; Developer...   \n",
       "...             ...                                                ...   \n",
       "61564          20.0  Data or business analyst;Data scientist or mac...   \n",
       "61586           3.0  Data scientist or machine learning specialist;...   \n",
       "61588           2.0  Data scientist or machine learning specialist;...   \n",
       "61617           2.0  Data or business analyst;Data scientist or mac...   \n",
       "61632           5.0  Data scientist or machine learning specialist;...   \n",
       "\n",
       "                                   JobSat  \\\n",
       "19                         Very satisfied   \n",
       "82                         Very satisfied   \n",
       "91     Neither satisfied nor dissatisfied   \n",
       "131                        Very satisfied   \n",
       "143                    Slightly satisfied   \n",
       "...                                   ...   \n",
       "61564                      Very satisfied   \n",
       "61586                      Very satisfied   \n",
       "61588                      Very satisfied   \n",
       "61617                      Very satisfied   \n",
       "61632                      Very satisfied   \n",
       "\n",
       "                                      LanguageWorkedWith  \\\n",
       "19                                          Perl; Python   \n",
       "82                              C++; C#; JavaScript; SQL   \n",
       "91        CoffeeScript; Haskell; JavaScript; Python; SQL   \n",
       "131                                                  C++   \n",
       "143                    C++; C#; F#; Haskell; Python; SQL   \n",
       "...                                                  ...   \n",
       "61564  Bash/Shell/PowerShell;Go;HTML/CSS;JavaScript;P...   \n",
       "61586  Bash/Shell/PowerShell;C;C#;C++;Go;Haskell;Kotl...   \n",
       "61588                                    C++;Python;Rust   \n",
       "61617                              JavaScript;Python;SQL   \n",
       "61632      Bash/Shell/PowerShell;C;C++;JavaScript;Python   \n",
       "\n",
       "                                  LanguageDesireNextYear  \\\n",
       "19                                          Perl; Python   \n",
       "82                                C++; C#; JavaScript; R   \n",
       "91                                                Python   \n",
       "131                                                  C++   \n",
       "143                   C; C++; C#; F#; Python; TypeScript   \n",
       "...                                                  ...   \n",
       "61564  Bash/Shell/PowerShell;HTML/CSS;JavaScript;Perl...   \n",
       "61586                          C#;Haskell;Rust;Scala;SQL   \n",
       "61588                              Assembly;Haskell;Rust   \n",
       "61617                                      Python;R;Ruby   \n",
       "61632                 JavaScript;Python;Scala;TypeScript   \n",
       "\n",
       "                                      DatabaseWorkedWith  \\\n",
       "19                                                 MySQL   \n",
       "82                                            SQL Server   \n",
       "91                            MongoDB; Redis; PostgreSQL   \n",
       "131                                                  NaN   \n",
       "143                                           SQL Server   \n",
       "...                                                  ...   \n",
       "61564  Cassandra;MariaDB;Microsoft SQL Server;MongoDB...   \n",
       "61586                                   PostgreSQL;Redis   \n",
       "61588                                                NaN   \n",
       "61617        MariaDB;Microsoft SQL Server;MongoDB;SQLite   \n",
       "61632  DynamoDB;Elasticsearch;MariaDB;MongoDB;MySQL;O...   \n",
       "\n",
       "                                  DatabaseDesireNextYear  \\\n",
       "19                                            PostgreSQL   \n",
       "82                                        MongoDB; Redis   \n",
       "91                                     Redis; PostgreSQL   \n",
       "131                                                  NaN   \n",
       "143                                                  NaN   \n",
       "...                                                  ...   \n",
       "61564  Cassandra;Elasticsearch;MariaDB;Microsoft SQL ...   \n",
       "61586                         Cassandra;PostgreSQL;Redis   \n",
       "61588                                                NaN   \n",
       "61617                                                NaN   \n",
       "61632                         Cassandra;PostgreSQL;Redis   \n",
       "\n",
       "                                      PlatformWorkedWith  \\\n",
       "19                                                   NaN   \n",
       "82       Windows Phone; Windows Desktop; Microsoft Azure   \n",
       "91     Windows Desktop; Linux Desktop; Amazon Web Ser...   \n",
       "131                                                  NaN   \n",
       "143               Windows Desktop; Arduino; Raspberry Pi   \n",
       "...                                                  ...   \n",
       "61564  Android;AWS;Docker;Google Cloud Platform;IBM C...   \n",
       "61586      Docker;Kubernetes;Slack Apps and Integrations   \n",
       "61588                                   AWS;Docker;Linux   \n",
       "61617                  AWS;Google Cloud Platform;Windows   \n",
       "61632  Android;AWS;Docker;Heroku;IBM Cloud or Watson;...   \n",
       "\n",
       "                                  PlatformDesireNextYear  \\\n",
       "19                                                   NaN   \n",
       "82     Android; iOS; Raspberry Pi; Amazon Web Service...   \n",
       "91                                         Linux Desktop   \n",
       "131                                                  NaN   \n",
       "143         Windows Desktop; Linux Desktop; Raspberry Pi   \n",
       "...                                                  ...   \n",
       "61564  Android;AWS;Docker;Google Cloud Platform;IBM C...   \n",
       "61586                                  Docker;Kubernetes   \n",
       "61588                        AWS;Docker;Kubernetes;Linux   \n",
       "61617                                                NaN   \n",
       "61632  Docker;Heroku;Kubernetes;MacOS;Microsoft Azure...   \n",
       "\n",
       "                      Gender  year  ConvertedComp  \\\n",
       "19                      Male  2017            NaN   \n",
       "82                      Male  2017            NaN   \n",
       "91                      Male  2017            NaN   \n",
       "131    Gender non-conforming  2017            NaN   \n",
       "143                     Male  2017        43750.0   \n",
       "...                      ...   ...            ...   \n",
       "61564                   Male  2020       145000.0   \n",
       "61586                   Male  2020        33972.0   \n",
       "61588                   Male  2020        97284.0   \n",
       "61617                   Male  2020        72000.0   \n",
       "61632                   Male  2020       180000.0   \n",
       "\n",
       "                          Ethnicity                UndergradMajor  \n",
       "19              I prefer not to say                          STEM  \n",
       "82     White or of European descent  Fine arts or performing arts  \n",
       "91     White or of European descent                          STEM  \n",
       "131    White or of European descent                          STEM  \n",
       "143    White or of European descent                          STEM  \n",
       "...                             ...                           ...  \n",
       "61564  White or of European descent                          STEM  \n",
       "61586  White or of European descent                          STEM  \n",
       "61588  White or of European descent                          STEM  \n",
       "61617        Hispanic or Latino/a/x                          STEM  \n",
       "61632                   South Asian                          STEM  \n",
       "\n",
       "[11192 rows x 20 columns]"
      ]
     },
     "execution_count": 310,
     "metadata": {},
     "output_type": "execute_result"
    }
   ],
   "source": [
    "#filter data science data \n",
    "df.dropna(subset=['DevType'],inplace=True)\n",
    "df_datsci = df[df['DevType'].str.contains('Data scientist')]\n",
    "df_datsci"
   ]
  },
  {
   "cell_type": "markdown",
   "metadata": {},
   "source": [
    "#### Aveage Salary for Data Science"
   ]
  },
  {
   "cell_type": "code",
   "execution_count": 311,
   "metadata": {
    "scrolled": false
   },
   "outputs": [
    {
     "data": {
      "image/png": "[encoded data removed]",
      "text/plain": [
       "<Figure size 864x576 with 1 Axes>"
      ]
     },
     "metadata": {
      "needs_background": "light"
     },
     "output_type": "display_data"
    }
   ],
   "source": [
    "#distribution of salary \n",
    "\n",
    "fig, ax = plt.subplots()\n",
    "fig.set_size_inches(12, 8)\n",
    "sns.boxplot(x=\"year\", y=\"ConvertedComp\", data=df_datsci,showfliers = False)\n",
    "plt.xlabel(' Year ')\n",
    "plt.ylabel(' Salary')\n",
    "plt.title('The distribution of data science developer salary');\n",
    "\n"
   ]
  },
  {
   "cell_type": "markdown",
   "metadata": {},
   "source": [
    "#### Job satisfaction for data science"
   ]
  },
  {
   "cell_type": "code",
   "execution_count": 312,
   "metadata": {},
   "outputs": [
    {
     "data": {
      "image/png": "[encoded data removed]",
      "text/plain": [
       "<Figure size 864x576 with 1 Axes>"
      ]
     },
     "metadata": {
      "needs_background": "light"
     },
     "output_type": "display_data"
    }
   ],
   "source": [
    "#plot\n",
    "\n",
    "fig, ax = plt.subplots()\n",
    "fig.set_size_inches(12, 8)\n",
    "sns.set_palette('Accent')\n",
    "sns.countplot(x=\"year\", hue=\"JobSat\",data=df_datsci)\n",
    "plt.title('The Job Satisfaction across years for data science developer');"
   ]
  },
  {
   "cell_type": "markdown",
   "metadata": {},
   "source": [
    "# Does race and gender or education level matter more to an individual's salary?"
   ]
  },
  {
   "cell_type": "code",
   "execution_count": 313,
   "metadata": {},
   "outputs": [],
   "source": [
    "#dropping nan\n",
    "df.dropna(how='any',inplace=True)\n",
    "#create a column to cal the average salary based on 'EdLevel','Gender','Ethnicity','UndergradMajor'\n",
    "df['Compa_verage'] = df.groupby(['EdLevel','Gender','Ethnicity','UndergradMajor'])['ConvertedComp'].transform(lambda x : x.mean())\n"
   ]
  },
  {
   "cell_type": "code",
   "execution_count": 314,
   "metadata": {},
   "outputs": [],
   "source": [
    "#filttering data to focous on the major 5 Ethnicity in stack\n",
    "in_ethnic=[ x for x in df['Ethnicity'] if x in Ethnic]\n",
    "df_ethnic = df[df['Ethnicity'].isin(in_ethnic)]\n",
    "df_ethnic=df_ethnic.query( 'Gender == \"Male\" or Gender == \"Female\"')\n",
    "\n"
   ]
  },
  {
   "cell_type": "code",
   "execution_count": 315,
   "metadata": {},
   "outputs": [
    {
     "data": {
      "text/plain": [
       "<Figure size 1296x1296 with 0 Axes>"
      ]
     },
     "metadata": {},
     "output_type": "display_data"
    },
    {
     "data": {
      "image/png": "[encoded data removed]",
      "text/plain": [
       "<Figure size 864x576 with 1 Axes>"
      ]
     },
     "metadata": {
      "needs_background": "light"
     },
     "output_type": "display_data"
    }
   ],
   "source": [
    "#plot the gender gap accros Ethnicity\n",
    "plt.figure(figsize=(18,18))\n",
    "sns.catplot(x=\"Ethnicity\", y=\"Compa_verage\", hue=\"Gender\", data=df_ethnic,kind=\"bar\")\n",
    "plt.xticks(rotation=60)\n",
    "plt.gcf().set_size_inches(12, 8)\n",
    "plt.title('Gender Earning Gap by Race/Ethnicity');\n",
    "\n"
   ]
  },
  {
   "cell_type": "code",
   "execution_count": 316,
   "metadata": {},
   "outputs": [
    {
     "data": {
      "image/png": "[encoded data removed]",
      "text/plain": [
       "<Figure size 864x576 with 1 Axes>"
      ]
     },
     "metadata": {
      "needs_background": "light"
     },
     "output_type": "display_data"
    }
   ],
   "source": [
    "#plot the gender gap accros Ed Level\n",
    "sns.catplot(x=\"EdLevel\", y=\"Compa_verage\", hue=\"Gender\", data=df_ethnic, kind=\"bar\")\n",
    "plt.xticks(rotation=60)\n",
    "plt.gcf().set_size_inches(12, 8)\n",
    "plt.title('Gender Earning Gap by Education Level');"
   ]
  },
  {
   "cell_type": "markdown",
   "metadata": {},
   "source": [
    "## Modeling \n",
    "\n",
    "> We can use 'Hobbyist',\"Employment_answer\",'Ed_Level','YearsCode','YearsCodePro',and 'ConvertedComp' to attemp predicting the jobsatisfaction.\n",
    "\n",
    "> First we must deal with catagories data, then we can start modeling."
   ]
  },
  {
   "cell_type": "code",
   "execution_count": 317,
   "metadata": {},
   "outputs": [],
   "source": [
    "#making copy\n",
    "df1 = df.copy()\n",
    "#dropping all nan \n",
    "#catagical values is hard to impute its missing values\n",
    "df1.dropna(how='any',inplace=True)\n",
    "#convert into dummies \n",
    "df1['Hobbyist'] =pd.get_dummies(df1['Hobbyist'])\n",
    "#using LabelEncoder to encode categorical features as a one-hot numeric\n",
    "label = LabelEncoder()\n",
    "df1[\"Employment_answer\"] = label.fit_transform(df1[\"Employment\"])\n",
    "df1[[\"Employment\", \"Employment_answer\"]]\n",
    "df1[\"JobSat_answer\"] = label.fit_transform(df1[\"JobSat\"])\n",
    "df1[['JobSat', 'JobSat_answer']]\n",
    "df1['Ed_Level'] = label.fit_transform(df1['EdLevel'])\n",
    "df1[['EdLevel', 'Ed_Level']]\n",
    "df1['Year'] = label.fit_transform(df1['year'])\n",
    "df1[['year', 'Year']];"
   ]
  },
  {
   "cell_type": "code",
   "execution_count": 318,
   "metadata": {},
   "outputs": [
    {
     "name": "stdout",
     "output_type": "stream",
     "text": [
      "Number of mislabeled points out of a total 37434 points : 22131\n"
     ]
    },
    {
     "data": {
      "text/plain": [
       "('Accuracy:', 0.40879948709729125)"
      ]
     },
     "execution_count": 318,
     "metadata": {},
     "output_type": "execute_result"
    }
   ],
   "source": [
    "#Gaussian Naive Bayes (GaussianNB)\n",
    "#define x and y \n",
    "X= df1[['Hobbyist',\"Employment_answer\",'Ed_Level','YearsCode','YearsCodePro','ConvertedComp']]\n",
    "Y = df1['JobSat']\n",
    "#split data\n",
    "X_train,X_test,y_train,y_test = train_test_split(X,Y,test_size=0.5,random_state=0)\n",
    "#define model\n",
    "clf= GaussianNB()\n",
    "#fitting\n",
    "clf.fit(X_train,y_train)\n",
    "#predicting\n",
    "y_pred=clf.predict(X_test)\n",
    "#accuracy\n",
    "print(\"Number of mislabeled points out of a total %d points : %d\" % (X_test.shape[0], (y_test != y_pred).sum()))\n",
    "\"Accuracy:\",metrics.accuracy_score(y_test, y_pred)"
   ]
  },
  {
   "cell_type": "markdown",
   "metadata": {},
   "source": [
    "> The accuracy is low, but this model can be improved if we have more survey answer that related to job satisfaction factors. \n"
   ]
  }
 ],
 "metadata": {
  "kernelspec": {
   "display_name": "Python 3",
   "language": "python",
   "name": "python3"
  },
  "language_info": {
   "codemirror_mode": {
    "name": "ipython",
    "version": 3
   },
   "file_extension": ".py",
   "mimetype": "text/x-python",
   "name": "python",
   "nbconvert_exporter": "python",
   "pygments_lexer": "ipython3",
   "version": "3.7.1"
  }
 },
 "nbformat": 4,
 "nbformat_minor": 2
}
